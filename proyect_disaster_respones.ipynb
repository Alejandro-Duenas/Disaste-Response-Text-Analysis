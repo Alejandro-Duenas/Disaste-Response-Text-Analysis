{
 "cells": [
  {
   "cell_type": "markdown",
   "metadata": {
    "id": "7cpO9Cjs-E6A"
   },
   "source": [
    "# Disaster Response Message Analisis: from Random Forests to Recurrent Neural Networks"
   ]
  },
  {
   "cell_type": "markdown",
   "metadata": {
    "id": "YWuRyp0l-ncr"
   },
   "source": [
    "In this notebook I explore three methods to analize text data to predict the topics of the text. This is done with data from [Figure Eight](https://appen.com), where there are compiled text messages from disaster survivors, and the objective is to classify them to understand the priorities when dealing with the disaster. "
   ]
  },
  {
   "cell_type": "code",
   "execution_count": 1,
   "metadata": {
    "colab": {
     "base_uri": "https://localhost:8080/"
    },
    "id": "Qp2iNZZ2iDo3",
    "outputId": "090f41ca-207b-4a98-8322-db97713d528a"
   },
   "outputs": [
    {
     "name": "stdout",
     "output_type": "stream",
     "text": [
      "Mounted at gdrive\n"
     ]
    }
   ],
   "source": [
    "# from google.colab import drive\r",
    "# \n",
    "drive.mount('gdrive')"
   ]
  },
  {
   "cell_type": "code",
   "execution_count": 92,
   "metadata": {
    "colab": {
     "base_uri": "https://localhost:8080/"
    },
    "id": "PVqWoSXcm1SC",
    "outputId": "3623ebc2-a519-43c9-80f8-49a6116c5b05"
   },
   "outputs": [
    {
     "name": "stdout",
     "output_type": "stream",
     "text": [
      "[nltk_data] Downloading package punkt to /root/nltk_data...\n",
      "[nltk_data]   Package punkt is already up-to-date!\n",
      "[nltk_data] Downloading package wordnet to /root/nltk_data...\n",
      "[nltk_data]   Package wordnet is already up-to-date!\n",
      "[nltk_data] Downloading package stopwords to /root/nltk_data...\n",
      "[nltk_data]   Unzipping corpora/stopwords.zip.\n"
     ]
    },
    {
     "data": {
      "text/plain": [
       "True"
      ]
     },
     "execution_count": 92,
     "metadata": {
      "tags": []
     },
     "output_type": "execute_result"
    }
   ],
   "source": [
    "# import libraries\r\n",
    "import pandas as pd \r\n",
    "import numpy as np\r\n",
    "from sqlalchemy import create_engine\r\n",
    "import nltk\r\n",
    "nltk.download(['punkt','wordnet'])\r\n",
    "from nltk.tokenize import word_tokenize\r\n",
    "from nltk.stem.wordnet import WordNetLemmatizer\r\n",
    "from sklearn.pipeline import Pipeline\r\n",
    "from sklearn.base import BaseEstimator\r\n",
    "from sklearn.multioutput import MultiOutputClassifier\r\n",
    "from sklearn.ensemble import RandomForestClassifier\r\n",
    "import xgboost\r\n",
    "from sklearn.feature_extraction.text import CountVectorizer, TfidfTransformer\r\n",
    "from sklearn.model_selection import train_test_split, GridSearchCV\r\n",
    "from sklearn.metrics import precision_score, recall_score, f1_score, classification_report\r\n",
    "from nltk.corpus import stopwords\r\n",
    "nltk.download('stopwords')"
   ]
  },
  {
   "cell_type": "markdown",
   "metadata": {
    "id": "jF49gIlw_fIA"
   },
   "source": [
    "In this first dataset we can see the messages that will be analized. They are in english and in the original language."
   ]
  },
  {
   "cell_type": "code",
   "execution_count": 3,
   "metadata": {
    "colab": {
     "base_uri": "https://localhost:8080/",
     "height": 195
    },
    "id": "PhhyJISPn05e",
    "outputId": "55712463-7eeb-4491-9120-59fc9d0c9a35"
   },
   "outputs": [
    {
     "data": {
      "text/html": [
       "<div>\n",
       "<style scoped>\n",
       "    .dataframe tbody tr th:only-of-type {\n",
       "        vertical-align: middle;\n",
       "    }\n",
       "\n",
       "    .dataframe tbody tr th {\n",
       "        vertical-align: top;\n",
       "    }\n",
       "\n",
       "    .dataframe thead th {\n",
       "        text-align: right;\n",
       "    }\n",
       "</style>\n",
       "<table border=\"1\" class=\"dataframe\">\n",
       "  <thead>\n",
       "    <tr style=\"text-align: right;\">\n",
       "      <th></th>\n",
       "      <th>id</th>\n",
       "      <th>message</th>\n",
       "      <th>original</th>\n",
       "      <th>genre</th>\n",
       "    </tr>\n",
       "  </thead>\n",
       "  <tbody>\n",
       "    <tr>\n",
       "      <th>0</th>\n",
       "      <td>2</td>\n",
       "      <td>Weather update - a cold front from Cuba that c...</td>\n",
       "      <td>Un front froid se retrouve sur Cuba ce matin. ...</td>\n",
       "      <td>direct</td>\n",
       "    </tr>\n",
       "    <tr>\n",
       "      <th>1</th>\n",
       "      <td>7</td>\n",
       "      <td>Is the Hurricane over or is it not over</td>\n",
       "      <td>Cyclone nan fini osinon li pa fini</td>\n",
       "      <td>direct</td>\n",
       "    </tr>\n",
       "    <tr>\n",
       "      <th>2</th>\n",
       "      <td>8</td>\n",
       "      <td>Looking for someone but no name</td>\n",
       "      <td>Patnm, di Maryani relem pou li banm nouvel li ...</td>\n",
       "      <td>direct</td>\n",
       "    </tr>\n",
       "    <tr>\n",
       "      <th>3</th>\n",
       "      <td>9</td>\n",
       "      <td>UN reports Leogane 80-90 destroyed. Only Hospi...</td>\n",
       "      <td>UN reports Leogane 80-90 destroyed. Only Hospi...</td>\n",
       "      <td>direct</td>\n",
       "    </tr>\n",
       "    <tr>\n",
       "      <th>4</th>\n",
       "      <td>12</td>\n",
       "      <td>says: west side of Haiti, rest of the country ...</td>\n",
       "      <td>facade ouest d Haiti et le reste du pays aujou...</td>\n",
       "      <td>direct</td>\n",
       "    </tr>\n",
       "  </tbody>\n",
       "</table>\n",
       "</div>"
      ],
      "text/plain": [
       "   id  ...   genre\n",
       "0   2  ...  direct\n",
       "1   7  ...  direct\n",
       "2   8  ...  direct\n",
       "3   9  ...  direct\n",
       "4  12  ...  direct\n",
       "\n",
       "[5 rows x 4 columns]"
      ]
     },
     "execution_count": 3,
     "metadata": {
      "tags": []
     },
     "output_type": "execute_result"
    }
   ],
   "source": [
    "messages_path = 'data/disaster_messages.csv'\r\n",
    "messages = pd.read_csv(messages_path)\r\n",
    "messages.head()"
   ]
  },
  {
   "cell_type": "markdown",
   "metadata": {
    "id": "4TW2LVQg_rim"
   },
   "source": [
    "Next we have the categories dataset, where we have the name of the category and whether the message corresponds to that category ($1$) or not ($0$)."
   ]
  },
  {
   "cell_type": "code",
   "execution_count": 4,
   "metadata": {
    "colab": {
     "base_uri": "https://localhost:8080/",
     "height": 195
    },
    "id": "1c2K00uUoWl0",
    "outputId": "04366b2e-d648-44ce-d34d-1d1b72778eb3"
   },
   "outputs": [
    {
     "data": {
      "text/html": [
       "<div>\n",
       "<style scoped>\n",
       "    .dataframe tbody tr th:only-of-type {\n",
       "        vertical-align: middle;\n",
       "    }\n",
       "\n",
       "    .dataframe tbody tr th {\n",
       "        vertical-align: top;\n",
       "    }\n",
       "\n",
       "    .dataframe thead th {\n",
       "        text-align: right;\n",
       "    }\n",
       "</style>\n",
       "<table border=\"1\" class=\"dataframe\">\n",
       "  <thead>\n",
       "    <tr style=\"text-align: right;\">\n",
       "      <th></th>\n",
       "      <th>id</th>\n",
       "      <th>categories</th>\n",
       "    </tr>\n",
       "  </thead>\n",
       "  <tbody>\n",
       "    <tr>\n",
       "      <th>0</th>\n",
       "      <td>2</td>\n",
       "      <td>related-1;request-0;offer-0;aid_related-0;medi...</td>\n",
       "    </tr>\n",
       "    <tr>\n",
       "      <th>1</th>\n",
       "      <td>7</td>\n",
       "      <td>related-1;request-0;offer-0;aid_related-1;medi...</td>\n",
       "    </tr>\n",
       "    <tr>\n",
       "      <th>2</th>\n",
       "      <td>8</td>\n",
       "      <td>related-1;request-0;offer-0;aid_related-0;medi...</td>\n",
       "    </tr>\n",
       "    <tr>\n",
       "      <th>3</th>\n",
       "      <td>9</td>\n",
       "      <td>related-1;request-1;offer-0;aid_related-1;medi...</td>\n",
       "    </tr>\n",
       "    <tr>\n",
       "      <th>4</th>\n",
       "      <td>12</td>\n",
       "      <td>related-1;request-0;offer-0;aid_related-0;medi...</td>\n",
       "    </tr>\n",
       "  </tbody>\n",
       "</table>\n",
       "</div>"
      ],
      "text/plain": [
       "   id                                         categories\n",
       "0   2  related-1;request-0;offer-0;aid_related-0;medi...\n",
       "1   7  related-1;request-0;offer-0;aid_related-1;medi...\n",
       "2   8  related-1;request-0;offer-0;aid_related-0;medi...\n",
       "3   9  related-1;request-1;offer-0;aid_related-1;medi...\n",
       "4  12  related-1;request-0;offer-0;aid_related-0;medi..."
      ]
     },
     "execution_count": 4,
     "metadata": {
      "tags": []
     },
     "output_type": "execute_result"
    }
   ],
   "source": [
    "categories_path = 'data/disaster_categories.csv'\r\n",
    "categories = pd.read_csv(categories_path)\r\n",
    "categories.head()"
   ]
  },
  {
   "cell_type": "code",
   "execution_count": 5,
   "metadata": {
    "id": "ho8GNT8Qol9m"
   },
   "outputs": [],
   "source": [
    "# -------------------------Some usefull functions---------------------------\r\n",
    "\r\n",
    "#Load the data function:\r\n",
    "def load_data(messages_path,categories_path):\r\n",
    "    '''This function loads and merge the data\r\n",
    "    Inputs:\r\n",
    "        messages_path, categories_path: both are string that give the path\r\n",
    "        to the CSV files that contain the information of the messages and \r\n",
    "        categories.\r\n",
    "    Outputs:\r\n",
    "        df: Pandas DataFrame that contains the merged infomation of messages\r\n",
    "        and categoires\r\n",
    "    '''\r\n",
    "    # Load the data\r\n",
    "    categories = pd.read_csv(categories_path)\r\n",
    "    messages = pd.read_csv(messages_path)\r\n",
    "\r\n",
    "    # Merge the data\r\n",
    "    df = messages.merge(categories,'inner',on='id')\r\n",
    "\r\n",
    "    # Create dataframe for the 36 individual category columns\r\n",
    "    categories = df['categories'].str.split(';',expand=True)\r\n",
    "\r\n",
    "    # Create names for the categories\r\n",
    "    raw = categories.loc[0,:]\r\n",
    "    category_names = raw.str.slice(stop=-2)\r\n",
    "\r\n",
    "    # Changing the names:\r\n",
    "    categories.columns = category_names\r\n",
    "\r\n",
    "    # Giving correct values to the category columns\r\n",
    "    for column in categories:\r\n",
    "        categories[column] = categories[column].astype(str).str.\\\r\n",
    "                                slice(start=-1).astype(int)\r\n",
    "\r\n",
    "    # Join and replace the categories dataframe in the main dataframe\r\n",
    "    df.drop(columns='categories',inplace=True) # eliminate bad column\r\n",
    "    df = pd.concat([df,categories],axis=1,sort=False)\r\n",
    "\r\n",
    "    return df\r\n",
    "\r\n",
    "# Clean the data from duplicated information\r\n",
    "def clean_data(df):\r\n",
    "    '''Cleans data of the input dataframe, eliminating duplicate values\r\n",
    "    Input:\r\n",
    "        df: Pandas DataFrame instance\r\n",
    "    Output:\r\n",
    "        df: Pandas DataFrame instance (without duplicates)\r\n",
    "    '''\r\n",
    "    # Remove duplicates\r\n",
    "    df.drop_duplicates(subset='message',keep='first',inplace=True)\r\n",
    "    return df\r\n",
    "\r\n",
    "# Save the data into a SQL database\r\n",
    "def save_data(df,database_filename='message_data'):\r\n",
    "    '''This function saves the df dataframe into a SQL file\r\n",
    "    Inputs:\r\n",
    "        df: Pandas DataFrame instance\r\n",
    "        database_filename: string containing the name of the SQL table saved\r\n",
    "    Outputs:\r\n",
    "        None\r\n",
    "    '''\r\n",
    "    engine = create_engine('sqlite:///{}.db'.format(database_filename))\r\n",
    "    df.to_sql(database_filename,engine,index=False)\r\n",
    "\r\n",
    "\r\n",
    "    "
   ]
  },
  {
   "cell_type": "markdown",
   "metadata": {
    "id": "2nJEWsiLANSb"
   },
   "source": [
    "Lets see the data once it is cleaned:"
   ]
  },
  {
   "cell_type": "code",
   "execution_count": 6,
   "metadata": {
    "colab": {
     "base_uri": "https://localhost:8080/",
     "height": 198
    },
    "id": "P3e3cdWHt7h_",
    "outputId": "dd01aa77-d0e7-49a2-b3fa-837a7ef1d5f5"
   },
   "outputs": [
    {
     "data": {
      "text/html": [
       "<div>\n",
       "<style scoped>\n",
       "    .dataframe tbody tr th:only-of-type {\n",
       "        vertical-align: middle;\n",
       "    }\n",
       "\n",
       "    .dataframe tbody tr th {\n",
       "        vertical-align: top;\n",
       "    }\n",
       "\n",
       "    .dataframe thead th {\n",
       "        text-align: right;\n",
       "    }\n",
       "</style>\n",
       "<table border=\"1\" class=\"dataframe\">\n",
       "  <thead>\n",
       "    <tr style=\"text-align: right;\">\n",
       "      <th></th>\n",
       "      <th>id</th>\n",
       "      <th>message</th>\n",
       "      <th>original</th>\n",
       "      <th>genre</th>\n",
       "      <th>related</th>\n",
       "      <th>request</th>\n",
       "      <th>offer</th>\n",
       "      <th>aid_related</th>\n",
       "      <th>medical_help</th>\n",
       "      <th>medical_products</th>\n",
       "      <th>search_and_rescue</th>\n",
       "      <th>security</th>\n",
       "      <th>military</th>\n",
       "      <th>child_alone</th>\n",
       "      <th>water</th>\n",
       "      <th>food</th>\n",
       "      <th>shelter</th>\n",
       "      <th>clothing</th>\n",
       "      <th>money</th>\n",
       "      <th>missing_people</th>\n",
       "      <th>refugees</th>\n",
       "      <th>death</th>\n",
       "      <th>other_aid</th>\n",
       "      <th>infrastructure_related</th>\n",
       "      <th>transport</th>\n",
       "      <th>buildings</th>\n",
       "      <th>electricity</th>\n",
       "      <th>tools</th>\n",
       "      <th>hospitals</th>\n",
       "      <th>shops</th>\n",
       "      <th>aid_centers</th>\n",
       "      <th>other_infrastructure</th>\n",
       "      <th>weather_related</th>\n",
       "      <th>floods</th>\n",
       "      <th>storm</th>\n",
       "      <th>fire</th>\n",
       "      <th>earthquake</th>\n",
       "      <th>cold</th>\n",
       "      <th>other_weather</th>\n",
       "      <th>direct_report</th>\n",
       "    </tr>\n",
       "  </thead>\n",
       "  <tbody>\n",
       "    <tr>\n",
       "      <th>0</th>\n",
       "      <td>2</td>\n",
       "      <td>Weather update - a cold front from Cuba that c...</td>\n",
       "      <td>Un front froid se retrouve sur Cuba ce matin. ...</td>\n",
       "      <td>direct</td>\n",
       "      <td>1</td>\n",
       "      <td>0</td>\n",
       "      <td>0</td>\n",
       "      <td>0</td>\n",
       "      <td>0</td>\n",
       "      <td>0</td>\n",
       "      <td>0</td>\n",
       "      <td>0</td>\n",
       "      <td>0</td>\n",
       "      <td>0</td>\n",
       "      <td>0</td>\n",
       "      <td>0</td>\n",
       "      <td>0</td>\n",
       "      <td>0</td>\n",
       "      <td>0</td>\n",
       "      <td>0</td>\n",
       "      <td>0</td>\n",
       "      <td>0</td>\n",
       "      <td>0</td>\n",
       "      <td>0</td>\n",
       "      <td>0</td>\n",
       "      <td>0</td>\n",
       "      <td>0</td>\n",
       "      <td>0</td>\n",
       "      <td>0</td>\n",
       "      <td>0</td>\n",
       "      <td>0</td>\n",
       "      <td>0</td>\n",
       "      <td>0</td>\n",
       "      <td>0</td>\n",
       "      <td>0</td>\n",
       "      <td>0</td>\n",
       "      <td>0</td>\n",
       "      <td>0</td>\n",
       "      <td>0</td>\n",
       "      <td>0</td>\n",
       "    </tr>\n",
       "  </tbody>\n",
       "</table>\n",
       "</div>"
      ],
      "text/plain": [
       "   id  ... direct_report\n",
       "0   2  ...             0\n",
       "\n",
       "[1 rows x 40 columns]"
      ]
     },
     "execution_count": 6,
     "metadata": {
      "tags": []
     },
     "output_type": "execute_result"
    }
   ],
   "source": [
    "df = load_data(messages_path,categories_path)\r\n",
    "df = clean_data(df)\r\n",
    "df.head(1)"
   ]
  },
  {
   "cell_type": "markdown",
   "metadata": {
    "id": "-KQs1ERHVw21"
   },
   "source": [
    "Let's see some important graphics before start modeling:"
   ]
  },
  {
   "cell_type": "code",
   "execution_count": 48,
   "metadata": {
    "colab": {
     "base_uri": "https://localhost:8080/",
     "height": 354
    },
    "id": "mj6wc9rdV2c8",
    "outputId": "06548654-6b7b-4077-e439-63dc17b040ce"
   },
   "outputs": [
    {
     "data": {
      "image/png": "[encoded data removed]",
      "text/plain": [
       "<Figure size 1440x360 with 1 Axes>"
      ]
     },
     "metadata": {
      "tags": []
     },
     "output_type": "display_data"
    }
   ],
   "source": [
    "import matplotlib.pyplot as plt\r\n",
    "import matplotlib as mlp\r\n",
    "mlp.style.use('ggplot')\r\n",
    "genre_counts = df.groupby('genre').count()['message']\r\n",
    "genre_names = list(genre_counts.index)\r\n",
    "plt.figure(figsize=(20,5))\r\n",
    "plt.bar(genre_names,genre_counts,width=.9, color='teal')\r\n",
    "plt.title('Distribution of Message Genre')\r\n",
    "plt.xlabel('Genre')\r\n",
    "plt.ylabel('Count')\r\n",
    "plt.show()"
   ]
  },
  {
   "cell_type": "code",
   "execution_count": 111,
   "metadata": {
    "id": "NEnP_0TiW1DO"
   },
   "outputs": [],
   "source": [
    "word_dic = {}\r\n",
    "all_messages = []\r\n",
    "stopwords = nltk.corpus.stopwords.words('english')\r\n",
    "messages = df['message'].to_list()\r\n",
    "for message in messages:\r\n",
    "    sentence = re.sub(r\"[^a-zA-Z']+\", \" \", message).strip().lower().split()\r\n",
    "    sentence = [word for word in sentence if word not in stopwords ]\r\n",
    "    for word in sentence:\r\n",
    "        all_messages.append(word)\r\n",
    "        if word not in word_dic.keys():\r\n",
    "            word_dic[word] = 1\r\n",
    "        else:\r\n",
    "            word_dic[word] += 1\r\n"
   ]
  },
  {
   "cell_type": "code",
   "execution_count": 109,
   "metadata": {
    "colab": {
     "base_uri": "https://localhost:8080/",
     "height": 354
    },
    "id": "85T2x0nLeo_w",
    "outputId": "0564833c-fcba-4029-dff2-50628ff1694a"
   },
   "outputs": [
    {
     "data": {
      "image/png": "[encoded data removed]",
      "text/plain": [
       "<Figure size 1440x360 with 1 Axes>"
      ]
     },
     "metadata": {
      "tags": []
     },
     "output_type": "display_data"
    }
   ],
   "source": [
    "words = pd.Series(word_dic)\r\n",
    "top_10 = words.sort_values(ascending=False).head(10)\r\n",
    "plt.figure(figsize=(20,5))\r\n",
    "plt.bar(top_10.index,top_10.values,width=.9, color='teal')\r\n",
    "plt.title('Distribution of Most Common Words')\r\n",
    "plt.xlabel('Words')\r\n",
    "plt.ylabel('Count')\r\n",
    "plt.show()"
   ]
  },
  {
   "cell_type": "code",
   "execution_count": 117,
   "metadata": {
    "colab": {
     "base_uri": "https://localhost:8080/",
     "height": 320
    },
    "id": "Ge9I6C97f7ca",
    "outputId": "5ec29e16-2428-4f26-dd9a-65f75caf1aab"
   },
   "outputs": [
    {
     "data": {
      "image/png": "[encoded data removed]",
      "text/plain": [
       "<Figure size 1080x360 with 1 Axes>"
      ]
     },
     "metadata": {
      "tags": []
     },
     "output_type": "display_data"
    }
   ],
   "source": [
    "from wordcloud import WordCloud, STOPWORDS\r\n",
    "word_cloud = WordCloud(background_color='white',stopwords=set(STOPWORDS))\r\n",
    "plot = word_cloud.generate(' '.join(all_messages))\r\n",
    "plt.figure(figsize=(15,5))\r\n",
    "plt.imshow(word_cloud,interpolation='bilinear')\r\n",
    "plt.axis('off')\r\n",
    "plt.title('Word Cloud of Messages Analized')\r\n",
    "plt.show()"
   ]
  },
  {
   "cell_type": "markdown",
   "metadata": {
    "id": "VPKW_55HASmY"
   },
   "source": [
    "Once we have the dataset in the structure we want to analize the informatio, we divide the predictive variables (the text of the messages) and the objective variables (all the categories for the messages):"
   ]
  },
  {
   "cell_type": "code",
   "execution_count": 7,
   "metadata": {
    "id": "YIgsZ1bOuKAx"
   },
   "outputs": [],
   "source": [
    "y = df.loc[:,'related':'direct_report']\r\n",
    "x = df['message']"
   ]
  },
  {
   "cell_type": "code",
   "execution_count": 8,
   "metadata": {
    "id": "7vqjL-y5uqFU"
   },
   "outputs": [],
   "source": [
    "#--------------- More Useful Functions-----------------------------------\r\n",
    "\r\n",
    "# Load the data from the SQL database\r\n",
    "def load_data():\r\n",
    "    '''Load the data\r\n",
    "    Inputs:\r\n",
    "        None\r\n",
    "    Outputs:\r\n",
    "        X, Y: Pandas dataframes containing the predictive variables and the\r\n",
    "        objective variable correspondingly\r\n",
    "        category_names: list with names of the objective variables (Ys)\r\n",
    "    '''\r\n",
    "    engine = create_engine('sqlite:///message_data.db')\r\n",
    "    df = pd.read_sql_table('message_data',engine)\r\n",
    "    Y = df.loc[:,'relate':'direct_repot']\r\n",
    "    category_names = Y.columns\r\n",
    "    X = df['message']\r\n",
    "    return X,Y,category_names\r\n",
    "\r\n",
    "# Tokenize the text messages\r\n",
    "def tokenize(text):\r\n",
    "    '''This function tokenizes the input text, using a lemmatizer\r\n",
    "    Inputs:\r\n",
    "        text: strin\r\n",
    "    Outputs:\r\n",
    "        clean_tokens: tokenized text\r\n",
    "    '''\r\n",
    "    # Create the tokens and the objects needed for the operation\r\n",
    "    tokens = word_tokenize(text)\r\n",
    "    lemmatizer = WordNetLemmatizer()\r\n",
    "    clean_tokens = []\r\n",
    "\r\n",
    "    # Cleaning the tokens: lower case, eliminate spaces and use lemmatizer\r\n",
    "    for token in tokens:\r\n",
    "        clean_token = lemmatizer.lemmatize(token.lower().strip())\r\n",
    "        clean_tokens.append(clean_token)\r\n",
    "    return clean_tokens"
   ]
  },
  {
   "cell_type": "code",
   "execution_count": 9,
   "metadata": {
    "id": "GLCekqnXmOsC"
   },
   "outputs": [],
   "source": [
    "# Adjust the target variables to be binary variables:\r\n",
    "y['related'] = y['related'].apply(lambda x: 1 if x>0 else 0)\r\n"
   ]
  },
  {
   "cell_type": "markdown",
   "metadata": {
    "id": "3X0kMaCLBldg"
   },
   "source": [
    "## Ensemble Model Approximation:\r\n",
    "In the first instance of the model analisis I use a Random Forest Classifier for the task, creating a preprocessing pipeline that vectorizes the text data, transforms it using TF-IDF, and finally using the `MultiOutputClassifier` to complete the multi-output task."
   ]
  },
  {
   "cell_type": "code",
   "execution_count": 10,
   "metadata": {
    "id": "C98GSfekxXam"
   },
   "outputs": [],
   "source": [
    "pipeline = Pipeline([\r\n",
    "    ('vect',CountVectorizer(tokenizer=tokenize)),\r\n",
    "    ('tfidf',TfidfTransformer()),\r\n",
    "    ('clf',MultiOutputClassifier(RandomForestClassifier()))\r\n",
    "])"
   ]
  },
  {
   "cell_type": "code",
   "execution_count": 11,
   "metadata": {
    "id": "1mWEO7U2xflD"
   },
   "outputs": [],
   "source": [
    "# Train-Test split of the dataset\r\n",
    "x_train,x_test,y_train,y_test = train_test_split(x,y,test_size=.2,\r\n",
    "                                                random_state=1792)"
   ]
  },
  {
   "cell_type": "code",
   "execution_count": 12,
   "metadata": {
    "id": "_gcRNsI_n_Ik"
   },
   "outputs": [],
   "source": [
    "# Fitting and predicting with the model:\r\n",
    "pipeline.fit(x_train,y_train)\r\n",
    "y_pred = pipeline.predict(x_test)\r\n"
   ]
  },
  {
   "cell_type": "markdown",
   "metadata": {
    "id": "ZgSv76twCi9w"
   },
   "source": [
    "### Results of the First Random Forest Model"
   ]
  },
  {
   "cell_type": "code",
   "execution_count": 13,
   "metadata": {
    "colab": {
     "base_uri": "https://localhost:8080/",
     "height": 1000
    },
    "id": "HpkbEHNlxwdZ",
    "outputId": "89a2c68e-09e8-4277-f416-25e654edf6d9"
   },
   "outputs": [
    {
     "data": {
      "text/html": [
       "<div>\n",
       "<style scoped>\n",
       "    .dataframe tbody tr th:only-of-type {\n",
       "        vertical-align: middle;\n",
       "    }\n",
       "\n",
       "    .dataframe tbody tr th {\n",
       "        vertical-align: top;\n",
       "    }\n",
       "\n",
       "    .dataframe thead th {\n",
       "        text-align: right;\n",
       "    }\n",
       "</style>\n",
       "<table border=\"1\" class=\"dataframe\">\n",
       "  <thead>\n",
       "    <tr style=\"text-align: right;\">\n",
       "      <th></th>\n",
       "      <th>Accuracy</th>\n",
       "    </tr>\n",
       "  </thead>\n",
       "  <tbody>\n",
       "    <tr>\n",
       "      <th>related</th>\n",
       "      <td>0.805386</td>\n",
       "    </tr>\n",
       "    <tr>\n",
       "      <th>request</th>\n",
       "      <td>0.899924</td>\n",
       "    </tr>\n",
       "    <tr>\n",
       "      <th>offer</th>\n",
       "      <td>0.994652</td>\n",
       "    </tr>\n",
       "    <tr>\n",
       "      <th>aid_related</th>\n",
       "      <td>0.768717</td>\n",
       "    </tr>\n",
       "    <tr>\n",
       "      <th>medical_help</th>\n",
       "      <td>0.919404</td>\n",
       "    </tr>\n",
       "    <tr>\n",
       "      <th>medical_products</th>\n",
       "      <td>0.953400</td>\n",
       "    </tr>\n",
       "    <tr>\n",
       "      <th>search_and_rescue</th>\n",
       "      <td>0.974408</td>\n",
       "    </tr>\n",
       "    <tr>\n",
       "      <th>security</th>\n",
       "      <td>0.983957</td>\n",
       "    </tr>\n",
       "    <tr>\n",
       "      <th>military</th>\n",
       "      <td>0.969251</td>\n",
       "    </tr>\n",
       "    <tr>\n",
       "      <th>child_alone</th>\n",
       "      <td>1.000000</td>\n",
       "    </tr>\n",
       "    <tr>\n",
       "      <th>water</th>\n",
       "      <td>0.951108</td>\n",
       "    </tr>\n",
       "    <tr>\n",
       "      <th>food</th>\n",
       "      <td>0.928189</td>\n",
       "    </tr>\n",
       "    <tr>\n",
       "      <th>shelter</th>\n",
       "      <td>0.931627</td>\n",
       "    </tr>\n",
       "    <tr>\n",
       "      <th>clothing</th>\n",
       "      <td>0.982047</td>\n",
       "    </tr>\n",
       "    <tr>\n",
       "      <th>money</th>\n",
       "      <td>0.974981</td>\n",
       "    </tr>\n",
       "    <tr>\n",
       "      <th>missing_people</th>\n",
       "      <td>0.989114</td>\n",
       "    </tr>\n",
       "    <tr>\n",
       "      <th>refugees</th>\n",
       "      <td>0.964859</td>\n",
       "    </tr>\n",
       "    <tr>\n",
       "      <th>death</th>\n",
       "      <td>0.961421</td>\n",
       "    </tr>\n",
       "    <tr>\n",
       "      <th>other_aid</th>\n",
       "      <td>0.869175</td>\n",
       "    </tr>\n",
       "    <tr>\n",
       "      <th>infrastructure_related</th>\n",
       "      <td>0.938312</td>\n",
       "    </tr>\n",
       "    <tr>\n",
       "      <th>transport</th>\n",
       "      <td>0.956264</td>\n",
       "    </tr>\n",
       "    <tr>\n",
       "      <th>buildings</th>\n",
       "      <td>0.948625</td>\n",
       "    </tr>\n",
       "    <tr>\n",
       "      <th>electricity</th>\n",
       "      <td>0.979947</td>\n",
       "    </tr>\n",
       "    <tr>\n",
       "      <th>tools</th>\n",
       "      <td>0.993888</td>\n",
       "    </tr>\n",
       "    <tr>\n",
       "      <th>hospitals</th>\n",
       "      <td>0.992170</td>\n",
       "    </tr>\n",
       "    <tr>\n",
       "      <th>shops</th>\n",
       "      <td>0.995989</td>\n",
       "    </tr>\n",
       "    <tr>\n",
       "      <th>aid_centers</th>\n",
       "      <td>0.989687</td>\n",
       "    </tr>\n",
       "    <tr>\n",
       "      <th>other_infrastructure</th>\n",
       "      <td>0.954736</td>\n",
       "    </tr>\n",
       "    <tr>\n",
       "      <th>weather_related</th>\n",
       "      <td>0.861536</td>\n",
       "    </tr>\n",
       "    <tr>\n",
       "      <th>floods</th>\n",
       "      <td>0.946142</td>\n",
       "    </tr>\n",
       "    <tr>\n",
       "      <th>storm</th>\n",
       "      <td>0.933155</td>\n",
       "    </tr>\n",
       "    <tr>\n",
       "      <th>fire</th>\n",
       "      <td>0.987586</td>\n",
       "    </tr>\n",
       "    <tr>\n",
       "      <th>earthquake</th>\n",
       "      <td>0.963522</td>\n",
       "    </tr>\n",
       "    <tr>\n",
       "      <th>cold</th>\n",
       "      <td>0.979374</td>\n",
       "    </tr>\n",
       "    <tr>\n",
       "      <th>other_weather</th>\n",
       "      <td>0.942704</td>\n",
       "    </tr>\n",
       "    <tr>\n",
       "      <th>direct_report</th>\n",
       "      <td>0.868602</td>\n",
       "    </tr>\n",
       "  </tbody>\n",
       "</table>\n",
       "</div>"
      ],
      "text/plain": [
       "                        Accuracy\n",
       "related                 0.805386\n",
       "request                 0.899924\n",
       "offer                   0.994652\n",
       "aid_related             0.768717\n",
       "medical_help            0.919404\n",
       "medical_products        0.953400\n",
       "search_and_rescue       0.974408\n",
       "security                0.983957\n",
       "military                0.969251\n",
       "child_alone             1.000000\n",
       "water                   0.951108\n",
       "food                    0.928189\n",
       "shelter                 0.931627\n",
       "clothing                0.982047\n",
       "money                   0.974981\n",
       "missing_people          0.989114\n",
       "refugees                0.964859\n",
       "death                   0.961421\n",
       "other_aid               0.869175\n",
       "infrastructure_related  0.938312\n",
       "transport               0.956264\n",
       "buildings               0.948625\n",
       "electricity             0.979947\n",
       "tools                   0.993888\n",
       "hospitals               0.992170\n",
       "shops                   0.995989\n",
       "aid_centers             0.989687\n",
       "other_infrastructure    0.954736\n",
       "weather_related         0.861536\n",
       "floods                  0.946142\n",
       "storm                   0.933155\n",
       "fire                    0.987586\n",
       "earthquake              0.963522\n",
       "cold                    0.979374\n",
       "other_weather           0.942704\n",
       "direct_report           0.868602"
      ]
     },
     "execution_count": 13,
     "metadata": {
      "tags": []
     },
     "output_type": "execute_result"
    }
   ],
   "source": [
    "# Accuracy of the model per output variable:\r\n",
    "accuracy = (y_pred==y_test).mean()\r\n",
    "pd.DataFrame(accuracy,columns=['Accuracy'])"
   ]
  },
  {
   "cell_type": "code",
   "execution_count": 14,
   "metadata": {
    "colab": {
     "base_uri": "https://localhost:8080/"
    },
    "id": "Cv-AZyaWxhtC",
    "outputId": "55461a7d-8bd5-4d5e-b87d-442c45e83620"
   },
   "outputs": [
    {
     "name": "stdout",
     "output_type": "stream",
     "text": [
      "------------------------RELATED-----------------------\n",
      "\n",
      "              precision    recall  f1-score   support\n",
      "\n",
      "           0       0.77      0.23      0.36      1217\n",
      "           1       0.81      0.98      0.89      4019\n",
      "\n",
      "    accuracy                           0.81      5236\n",
      "   macro avg       0.79      0.61      0.62      5236\n",
      "weighted avg       0.80      0.81      0.76      5236\n",
      "\n",
      "------------------------REQUEST-----------------------\n",
      "\n",
      "              precision    recall  f1-score   support\n",
      "\n",
      "           0       0.90      0.99      0.94      4341\n",
      "           1       0.91      0.46      0.61       895\n",
      "\n",
      "    accuracy                           0.90      5236\n",
      "   macro avg       0.91      0.73      0.78      5236\n",
      "weighted avg       0.90      0.90      0.89      5236\n",
      "\n",
      "------------------------OFFER-----------------------\n",
      "\n",
      "              precision    recall  f1-score   support\n",
      "\n",
      "           0       0.99      1.00      1.00      5208\n",
      "           1       0.00      0.00      0.00        28\n",
      "\n",
      "    accuracy                           0.99      5236\n",
      "   macro avg       0.50      0.50      0.50      5236\n",
      "weighted avg       0.99      0.99      0.99      5236\n",
      "\n",
      "------------------------AID_RELATED-----------------------\n",
      "\n",
      "              precision    recall  f1-score   support\n",
      "\n",
      "           0       0.76      0.89      0.82      3077\n",
      "           1       0.79      0.60      0.68      2159\n",
      "\n",
      "    accuracy                           0.77      5236\n",
      "   macro avg       0.77      0.74      0.75      5236\n",
      "weighted avg       0.77      0.77      0.76      5236\n",
      "\n",
      "------------------------MEDICAL_HELP-----------------------\n",
      "\n",
      "              precision    recall  f1-score   support\n",
      "\n",
      "           0       0.92      1.00      0.96      4814\n",
      "           1       0.50      0.01      0.02       422\n",
      "\n",
      "    accuracy                           0.92      5236\n",
      "   macro avg       0.71      0.50      0.49      5236\n",
      "weighted avg       0.89      0.92      0.88      5236\n",
      "\n",
      "------------------------MEDICAL_PRODUCTS-----------------------\n",
      "\n",
      "              precision    recall  f1-score   support\n",
      "\n",
      "           0       0.95      1.00      0.98      4978\n",
      "           1       0.82      0.07      0.13       258\n",
      "\n",
      "    accuracy                           0.95      5236\n",
      "   macro avg       0.89      0.53      0.55      5236\n",
      "weighted avg       0.95      0.95      0.93      5236\n",
      "\n",
      "------------------------SEARCH_AND_RESCUE-----------------------\n",
      "\n",
      "              precision    recall  f1-score   support\n",
      "\n",
      "           0       0.97      1.00      0.99      5100\n",
      "           1       0.75      0.02      0.04       136\n",
      "\n",
      "    accuracy                           0.97      5236\n",
      "   macro avg       0.86      0.51      0.51      5236\n",
      "weighted avg       0.97      0.97      0.96      5236\n",
      "\n",
      "------------------------SECURITY-----------------------\n",
      "\n",
      "              precision    recall  f1-score   support\n",
      "\n",
      "           0       0.98      1.00      0.99      5153\n",
      "           1       0.33      0.01      0.02        83\n",
      "\n",
      "    accuracy                           0.98      5236\n",
      "   macro avg       0.66      0.51      0.51      5236\n",
      "weighted avg       0.97      0.98      0.98      5236\n",
      "\n",
      "------------------------MILITARY-----------------------\n",
      "\n",
      "              precision    recall  f1-score   support\n",
      "\n",
      "           0       0.97      1.00      0.98      5069\n",
      "           1       0.88      0.04      0.08       167\n",
      "\n",
      "    accuracy                           0.97      5236\n",
      "   macro avg       0.92      0.52      0.53      5236\n",
      "weighted avg       0.97      0.97      0.96      5236\n",
      "\n",
      "------------------------CHILD_ALONE-----------------------\n",
      "\n",
      "              precision    recall  f1-score   support\n",
      "\n",
      "           0       1.00      1.00      1.00      5236\n",
      "\n",
      "    accuracy                           1.00      5236\n",
      "   macro avg       1.00      1.00      1.00      5236\n",
      "weighted avg       1.00      1.00      1.00      5236\n",
      "\n",
      "------------------------WATER-----------------------\n",
      "\n",
      "              precision    recall  f1-score   support\n",
      "\n",
      "           0       0.95      1.00      0.97      4919\n",
      "           1       0.89      0.22      0.35       317\n",
      "\n",
      "    accuracy                           0.95      5236\n",
      "   macro avg       0.92      0.61      0.66      5236\n",
      "weighted avg       0.95      0.95      0.94      5236\n",
      "\n",
      "------------------------FOOD-----------------------\n",
      "\n",
      "              precision    recall  f1-score   support\n",
      "\n",
      "           0       0.93      0.99      0.96      4638\n",
      "           1       0.88      0.43      0.58       598\n",
      "\n",
      "    accuracy                           0.93      5236\n",
      "   macro avg       0.90      0.71      0.77      5236\n",
      "weighted avg       0.93      0.93      0.92      5236\n",
      "\n",
      "------------------------SHELTER-----------------------\n",
      "\n",
      "              precision    recall  f1-score   support\n",
      "\n",
      "           0       0.93      0.99      0.96      4796\n",
      "           1       0.81      0.24      0.37       440\n",
      "\n",
      "    accuracy                           0.93      5236\n",
      "   macro avg       0.87      0.62      0.67      5236\n",
      "weighted avg       0.92      0.93      0.91      5236\n",
      "\n",
      "------------------------CLOTHING-----------------------\n",
      "\n",
      "              precision    recall  f1-score   support\n",
      "\n",
      "           0       0.98      1.00      0.99      5142\n",
      "           1       0.50      0.02      0.04        94\n",
      "\n",
      "    accuracy                           0.98      5236\n",
      "   macro avg       0.74      0.51      0.52      5236\n",
      "weighted avg       0.97      0.98      0.97      5236\n",
      "\n",
      "------------------------MONEY-----------------------\n",
      "\n",
      "              precision    recall  f1-score   support\n",
      "\n",
      "           0       0.97      1.00      0.99      5102\n",
      "           1       1.00      0.02      0.04       134\n",
      "\n",
      "    accuracy                           0.97      5236\n",
      "   macro avg       0.99      0.51      0.52      5236\n",
      "weighted avg       0.98      0.97      0.96      5236\n",
      "\n",
      "------------------------MISSING_PEOPLE-----------------------\n",
      "\n",
      "              precision    recall  f1-score   support\n",
      "\n",
      "           0       0.99      1.00      0.99      5177\n",
      "           1       1.00      0.03      0.07        59\n",
      "\n",
      "    accuracy                           0.99      5236\n",
      "   macro avg       0.99      0.52      0.53      5236\n",
      "weighted avg       0.99      0.99      0.98      5236\n",
      "\n",
      "------------------------REFUGEES-----------------------\n",
      "\n",
      "              precision    recall  f1-score   support\n",
      "\n",
      "           0       0.97      1.00      0.98      5050\n",
      "           1       0.75      0.02      0.03       186\n",
      "\n",
      "    accuracy                           0.96      5236\n",
      "   macro avg       0.86      0.51      0.51      5236\n",
      "weighted avg       0.96      0.96      0.95      5236\n",
      "\n",
      "------------------------DEATH-----------------------\n",
      "\n",
      "              precision    recall  f1-score   support\n",
      "\n",
      "           0       0.96      1.00      0.98      5017\n",
      "           1       0.77      0.11      0.19       219\n",
      "\n",
      "    accuracy                           0.96      5236\n",
      "   macro avg       0.87      0.55      0.59      5236\n",
      "weighted avg       0.95      0.96      0.95      5236\n",
      "\n",
      "------------------------OTHER_AID-----------------------\n",
      "\n",
      "              precision    recall  f1-score   support\n",
      "\n",
      "           0       0.87      1.00      0.93      4555\n",
      "           1       0.40      0.01      0.02       681\n",
      "\n",
      "    accuracy                           0.87      5236\n",
      "   macro avg       0.64      0.50      0.48      5236\n",
      "weighted avg       0.81      0.87      0.81      5236\n",
      "\n",
      "------------------------INFRASTRUCTURE_RELATED-----------------------\n",
      "\n",
      "              precision    recall  f1-score   support\n",
      "\n",
      "           0       0.94      1.00      0.97      4913\n",
      "           1       0.50      0.00      0.01       323\n",
      "\n",
      "    accuracy                           0.94      5236\n",
      "   macro avg       0.72      0.50      0.49      5236\n",
      "weighted avg       0.91      0.94      0.91      5236\n",
      "\n",
      "------------------------TRANSPORT-----------------------\n",
      "\n",
      "              precision    recall  f1-score   support\n",
      "\n",
      "           0       0.96      1.00      0.98      4996\n",
      "           1       0.79      0.06      0.12       240\n",
      "\n",
      "    accuracy                           0.96      5236\n",
      "   macro avg       0.87      0.53      0.55      5236\n",
      "weighted avg       0.95      0.96      0.94      5236\n",
      "\n",
      "------------------------BUILDINGS-----------------------\n",
      "\n",
      "              precision    recall  f1-score   support\n",
      "\n",
      "           0       0.95      1.00      0.97      4953\n",
      "           1       0.82      0.06      0.12       283\n",
      "\n",
      "    accuracy                           0.95      5236\n",
      "   macro avg       0.88      0.53      0.55      5236\n",
      "weighted avg       0.94      0.95      0.93      5236\n",
      "\n",
      "------------------------ELECTRICITY-----------------------\n",
      "\n",
      "              precision    recall  f1-score   support\n",
      "\n",
      "           0       0.98      1.00      0.99      5127\n",
      "           1       1.00      0.04      0.07       109\n",
      "\n",
      "    accuracy                           0.98      5236\n",
      "   macro avg       0.99      0.52      0.53      5236\n",
      "weighted avg       0.98      0.98      0.97      5236\n",
      "\n",
      "------------------------TOOLS-----------------------\n",
      "\n",
      "              precision    recall  f1-score   support\n",
      "\n",
      "           0       0.99      1.00      1.00      5204\n",
      "           1       0.00      0.00      0.00        32\n",
      "\n",
      "    accuracy                           0.99      5236\n",
      "   macro avg       0.50      0.50      0.50      5236\n",
      "weighted avg       0.99      0.99      0.99      5236\n",
      "\n",
      "------------------------HOSPITALS-----------------------\n",
      "\n",
      "              precision    recall  f1-score   support\n",
      "\n",
      "           0       0.99      1.00      1.00      5195\n",
      "           1       0.00      0.00      0.00        41\n",
      "\n",
      "    accuracy                           0.99      5236\n",
      "   macro avg       0.50      0.50      0.50      5236\n",
      "weighted avg       0.98      0.99      0.99      5236\n",
      "\n"
     ]
    },
    {
     "name": "stderr",
     "output_type": "stream",
     "text": [
      "/usr/local/lib/python3.6/dist-packages/sklearn/metrics/_classification.py:1272: UndefinedMetricWarning: Precision and F-score are ill-defined and being set to 0.0 in labels with no predicted samples. Use `zero_division` parameter to control this behavior.\n",
      "  _warn_prf(average, modifier, msg_start, len(result))\n"
     ]
    },
    {
     "name": "stdout",
     "output_type": "stream",
     "text": [
      "------------------------SHOPS-----------------------\n",
      "\n",
      "              precision    recall  f1-score   support\n",
      "\n",
      "           0       1.00      1.00      1.00      5215\n",
      "           1       0.00      0.00      0.00        21\n",
      "\n",
      "    accuracy                           1.00      5236\n",
      "   macro avg       0.50      0.50      0.50      5236\n",
      "weighted avg       0.99      1.00      0.99      5236\n",
      "\n",
      "------------------------AID_CENTERS-----------------------\n",
      "\n",
      "              precision    recall  f1-score   support\n",
      "\n",
      "           0       0.99      1.00      0.99      5182\n",
      "           1       0.00      0.00      0.00        54\n",
      "\n",
      "    accuracy                           0.99      5236\n",
      "   macro avg       0.49      0.50      0.50      5236\n",
      "weighted avg       0.98      0.99      0.98      5236\n",
      "\n",
      "------------------------OTHER_INFRASTRUCTURE-----------------------\n",
      "\n",
      "              precision    recall  f1-score   support\n",
      "\n",
      "           0       0.95      1.00      0.98      4999\n",
      "           1       0.50      0.00      0.01       237\n",
      "\n",
      "    accuracy                           0.95      5236\n",
      "   macro avg       0.73      0.50      0.49      5236\n",
      "weighted avg       0.93      0.95      0.93      5236\n",
      "\n",
      "------------------------WEATHER_RELATED-----------------------\n",
      "\n",
      "              precision    recall  f1-score   support\n",
      "\n",
      "           0       0.86      0.96      0.91      3768\n",
      "           1       0.86      0.60      0.71      1468\n",
      "\n",
      "    accuracy                           0.86      5236\n",
      "   macro avg       0.86      0.78      0.81      5236\n",
      "weighted avg       0.86      0.86      0.85      5236\n",
      "\n",
      "------------------------FLOODS-----------------------\n",
      "\n",
      "              precision    recall  f1-score   support\n",
      "\n",
      "           0       0.95      1.00      0.97      4814\n",
      "           1       0.90      0.37      0.53       422\n",
      "\n",
      "    accuracy                           0.95      5236\n",
      "   macro avg       0.92      0.68      0.75      5236\n",
      "weighted avg       0.94      0.95      0.94      5236\n",
      "\n",
      "------------------------STORM-----------------------\n",
      "\n",
      "              precision    recall  f1-score   support\n",
      "\n",
      "           0       0.94      0.99      0.96      4752\n",
      "           1       0.79      0.38      0.51       484\n",
      "\n",
      "    accuracy                           0.93      5236\n",
      "   macro avg       0.86      0.68      0.74      5236\n",
      "weighted avg       0.93      0.93      0.92      5236\n",
      "\n",
      "------------------------FIRE-----------------------\n",
      "\n",
      "              precision    recall  f1-score   support\n",
      "\n",
      "           0       0.99      1.00      0.99      5171\n",
      "           1       0.00      0.00      0.00        65\n",
      "\n",
      "    accuracy                           0.99      5236\n",
      "   macro avg       0.49      0.50      0.50      5236\n",
      "weighted avg       0.98      0.99      0.98      5236\n",
      "\n",
      "------------------------EARTHQUAKE-----------------------\n",
      "\n",
      "              precision    recall  f1-score   support\n",
      "\n",
      "           0       0.97      0.99      0.98      4744\n",
      "           1       0.88      0.71      0.79       492\n",
      "\n",
      "    accuracy                           0.96      5236\n",
      "   macro avg       0.92      0.85      0.88      5236\n",
      "weighted avg       0.96      0.96      0.96      5236\n",
      "\n",
      "------------------------COLD-----------------------\n",
      "\n",
      "              precision    recall  f1-score   support\n",
      "\n",
      "           0       0.98      1.00      0.99      5122\n",
      "           1       0.80      0.07      0.13       114\n",
      "\n",
      "    accuracy                           0.98      5236\n",
      "   macro avg       0.89      0.53      0.56      5236\n",
      "weighted avg       0.98      0.98      0.97      5236\n",
      "\n",
      "------------------------OTHER_WEATHER-----------------------\n",
      "\n",
      "              precision    recall  f1-score   support\n",
      "\n",
      "           0       0.94      1.00      0.97      4933\n",
      "           1       0.80      0.01      0.03       303\n",
      "\n",
      "    accuracy                           0.94      5236\n",
      "   macro avg       0.87      0.51      0.50      5236\n",
      "weighted avg       0.93      0.94      0.92      5236\n",
      "\n",
      "------------------------DIRECT_REPORT-----------------------\n",
      "\n",
      "              precision    recall  f1-score   support\n",
      "\n",
      "           0       0.87      0.99      0.92      4228\n",
      "           1       0.87      0.37      0.52      1008\n",
      "\n",
      "    accuracy                           0.87      5236\n",
      "   macro avg       0.87      0.68      0.72      5236\n",
      "weighted avg       0.87      0.87      0.85      5236\n",
      "\n"
     ]
    }
   ],
   "source": [
    "for index,column in enumerate(y.columns):\r\n",
    "    temp_dict = classification_report(y_test[column],y_pred[:,index])\r\n",
    "    print('------------------------'+column.upper()+'-----------------------'+'\\n')\r\n",
    "    print(temp_dict)"
   ]
  },
  {
   "cell_type": "markdown",
   "metadata": {
    "id": "M6xLOGCwDocr"
   },
   "source": [
    "### Improving the model: XGBoost Classifier and some HyperParameter Tunning\r\n",
    "\r\n",
    "Below I create a class so that I can try different models in my `GridSearchCV` trainig process."
   ]
  },
  {
   "cell_type": "code",
   "execution_count": 15,
   "metadata": {
    "id": "Tcb-2Z-1zBT9"
   },
   "outputs": [],
   "source": [
    "class MultiModel(BaseEstimator):\r\n",
    "    '''This class is done to select among different models inside a GridSearch\r\n",
    "    object\r\n",
    "\r\n",
    "    This idea was inspired by:\r\n",
    "    https://stackoverflow.com/questions/48507651/multiple-classification-models-in-a-scikit-pipeline-python\r\n",
    "    '''\r\n",
    "    def __init__(self,estimator=RandomForestClassifier()):\r\n",
    "        self.estimator = estimator\r\n",
    "    \r\n",
    "    def fit(self,x_train,y_train, **kwargs):\r\n",
    "        self.estimator.fit(x_train,y_train)\r\n",
    "        return self\r\n",
    "    \r\n",
    "    def predict(self, x_test):\r\n",
    "        return self.estimator.predict(x_test)"
   ]
  },
  {
   "cell_type": "code",
   "execution_count": 16,
   "metadata": {
    "colab": {
     "base_uri": "https://localhost:8080/"
    },
    "id": "y-CTejbdx1bN",
    "outputId": "a6d07170-96f5-47ab-cd8b-b6bfc3673660"
   },
   "outputs": [
    {
     "name": "stdout",
     "output_type": "stream",
     "text": [
      "Fitting 5 folds for each of 2 candidates, totalling 10 fits\n",
      "[CV] clf__estimator=XGBClassifier(base_score=0.5, booster='gbtree', colsample_bylevel=1,\n",
      "              colsample_bynode=1, colsample_bytree=1, gamma=0,\n",
      "              learning_rate=0.1, max_delta_step=0, max_depth=3,\n",
      "              min_child_weight=1, missing=None, n_estimators=100, n_jobs=1,\n",
      "              nthread=None, objective='binary:logistic', random_state=0,\n",
      "              reg_alpha=0, reg_lambda=1, scale_pos_weight=1, seed=None,\n",
      "              silent=None, subsample=1, verbosity=1) \n"
     ]
    },
    {
     "name": "stderr",
     "output_type": "stream",
     "text": [
      "[Parallel(n_jobs=1)]: Using backend SequentialBackend with 1 concurrent workers.\n"
     ]
    },
    {
     "name": "stdout",
     "output_type": "stream",
     "text": [
      "[CV]  clf__estimator=XGBClassifier(base_score=0.5, booster='gbtree', colsample_bylevel=1,\n",
      "              colsample_bynode=1, colsample_bytree=1, gamma=0,\n",
      "              learning_rate=0.1, max_delta_step=0, max_depth=3,\n",
      "              min_child_weight=1, missing=None, n_estimators=100, n_jobs=1,\n",
      "              nthread=None, objective='binary:logistic', random_state=0,\n",
      "              reg_alpha=0, reg_lambda=1, scale_pos_weight=1, seed=None,\n",
      "              silent=None, subsample=1, verbosity=1), total= 3.5min\n",
      "[CV] clf__estimator=XGBClassifier(base_score=0.5, booster='gbtree', colsample_bylevel=1,\n",
      "              colsample_bynode=1, colsample_bytree=1, gamma=0,\n",
      "              learning_rate=0.1, max_delta_step=0, max_depth=3,\n",
      "              min_child_weight=1, missing=None, n_estimators=100, n_jobs=1,\n",
      "              nthread=None, objective='binary:logistic', random_state=0,\n",
      "              reg_alpha=0, reg_lambda=1, scale_pos_weight=1, seed=None,\n",
      "              silent=None, subsample=1, verbosity=1) \n"
     ]
    },
    {
     "name": "stderr",
     "output_type": "stream",
     "text": [
      "[Parallel(n_jobs=1)]: Done   1 out of   1 | elapsed:  3.5min remaining:    0.0s\n"
     ]
    },
    {
     "name": "stdout",
     "output_type": "stream",
     "text": [
      "[CV]  clf__estimator=XGBClassifier(base_score=0.5, booster='gbtree', colsample_bylevel=1,\n",
      "              colsample_bynode=1, colsample_bytree=1, gamma=0,\n",
      "              learning_rate=0.1, max_delta_step=0, max_depth=3,\n",
      "              min_child_weight=1, missing=None, n_estimators=100, n_jobs=1,\n",
      "              nthread=None, objective='binary:logistic', random_state=0,\n",
      "              reg_alpha=0, reg_lambda=1, scale_pos_weight=1, seed=None,\n",
      "              silent=None, subsample=1, verbosity=1), total= 3.5min\n",
      "[CV] clf__estimator=XGBClassifier(base_score=0.5, booster='gbtree', colsample_bylevel=1,\n",
      "              colsample_bynode=1, colsample_bytree=1, gamma=0,\n",
      "              learning_rate=0.1, max_delta_step=0, max_depth=3,\n",
      "              min_child_weight=1, missing=None, n_estimators=100, n_jobs=1,\n",
      "              nthread=None, objective='binary:logistic', random_state=0,\n",
      "              reg_alpha=0, reg_lambda=1, scale_pos_weight=1, seed=None,\n",
      "              silent=None, subsample=1, verbosity=1) \n",
      "[CV]  clf__estimator=XGBClassifier(base_score=0.5, booster='gbtree', colsample_bylevel=1,\n",
      "              colsample_bynode=1, colsample_bytree=1, gamma=0,\n",
      "              learning_rate=0.1, max_delta_step=0, max_depth=3,\n",
      "              min_child_weight=1, missing=None, n_estimators=100, n_jobs=1,\n",
      "              nthread=None, objective='binary:logistic', random_state=0,\n",
      "              reg_alpha=0, reg_lambda=1, scale_pos_weight=1, seed=None,\n",
      "              silent=None, subsample=1, verbosity=1), total= 3.5min\n",
      "[CV] clf__estimator=XGBClassifier(base_score=0.5, booster='gbtree', colsample_bylevel=1,\n",
      "              colsample_bynode=1, colsample_bytree=1, gamma=0,\n",
      "              learning_rate=0.1, max_delta_step=0, max_depth=3,\n",
      "              min_child_weight=1, missing=None, n_estimators=100, n_jobs=1,\n",
      "              nthread=None, objective='binary:logistic', random_state=0,\n",
      "              reg_alpha=0, reg_lambda=1, scale_pos_weight=1, seed=None,\n",
      "              silent=None, subsample=1, verbosity=1) \n",
      "[CV]  clf__estimator=XGBClassifier(base_score=0.5, booster='gbtree', colsample_bylevel=1,\n",
      "              colsample_bynode=1, colsample_bytree=1, gamma=0,\n",
      "              learning_rate=0.1, max_delta_step=0, max_depth=3,\n",
      "              min_child_weight=1, missing=None, n_estimators=100, n_jobs=1,\n",
      "              nthread=None, objective='binary:logistic', random_state=0,\n",
      "              reg_alpha=0, reg_lambda=1, scale_pos_weight=1, seed=None,\n",
      "              silent=None, subsample=1, verbosity=1), total= 3.5min\n",
      "[CV] clf__estimator=XGBClassifier(base_score=0.5, booster='gbtree', colsample_bylevel=1,\n",
      "              colsample_bynode=1, colsample_bytree=1, gamma=0,\n",
      "              learning_rate=0.1, max_delta_step=0, max_depth=3,\n",
      "              min_child_weight=1, missing=None, n_estimators=100, n_jobs=1,\n",
      "              nthread=None, objective='binary:logistic', random_state=0,\n",
      "              reg_alpha=0, reg_lambda=1, scale_pos_weight=1, seed=None,\n",
      "              silent=None, subsample=1, verbosity=1) \n",
      "[CV]  clf__estimator=XGBClassifier(base_score=0.5, booster='gbtree', colsample_bylevel=1,\n",
      "              colsample_bynode=1, colsample_bytree=1, gamma=0,\n",
      "              learning_rate=0.1, max_delta_step=0, max_depth=3,\n",
      "              min_child_weight=1, missing=None, n_estimators=100, n_jobs=1,\n",
      "              nthread=None, objective='binary:logistic', random_state=0,\n",
      "              reg_alpha=0, reg_lambda=1, scale_pos_weight=1, seed=None,\n",
      "              silent=None, subsample=1, verbosity=1), total= 3.5min\n",
      "[CV] clf__estimator=RandomForestClassifier(bootstrap=True, ccp_alpha=0.0, class_weight=None,\n",
      "                       criterion='gini', max_depth=None, max_features='auto',\n",
      "                       max_leaf_nodes=None, max_samples=None,\n",
      "                       min_impurity_decrease=0.0, min_impurity_split=None,\n",
      "                       min_samples_leaf=1, min_samples_split=2,\n",
      "                       min_weight_fraction_leaf=0.0, n_estimators=100,\n",
      "                       n_jobs=None, oob_score=False, random_state=None,\n",
      "                       verbose=0, warm_start=False) \n",
      "[CV]  clf__estimator=RandomForestClassifier(bootstrap=True, ccp_alpha=0.0, class_weight=None,\n",
      "                       criterion='gini', max_depth=None, max_features='auto',\n",
      "                       max_leaf_nodes=None, max_samples=None,\n",
      "                       min_impurity_decrease=0.0, min_impurity_split=None,\n",
      "                       min_samples_leaf=1, min_samples_split=2,\n",
      "                       min_weight_fraction_leaf=0.0, n_estimators=100,\n",
      "                       n_jobs=None, oob_score=False, random_state=None,\n",
      "                       verbose=0, warm_start=False), total= 5.2min\n",
      "[CV] clf__estimator=RandomForestClassifier(bootstrap=True, ccp_alpha=0.0, class_weight=None,\n",
      "                       criterion='gini', max_depth=None, max_features='auto',\n",
      "                       max_leaf_nodes=None, max_samples=None,\n",
      "                       min_impurity_decrease=0.0, min_impurity_split=None,\n",
      "                       min_samples_leaf=1, min_samples_split=2,\n",
      "                       min_weight_fraction_leaf=0.0, n_estimators=100,\n",
      "                       n_jobs=None, oob_score=False, random_state=None,\n",
      "                       verbose=0, warm_start=False) \n",
      "[CV]  clf__estimator=RandomForestClassifier(bootstrap=True, ccp_alpha=0.0, class_weight=None,\n",
      "                       criterion='gini', max_depth=None, max_features='auto',\n",
      "                       max_leaf_nodes=None, max_samples=None,\n",
      "                       min_impurity_decrease=0.0, min_impurity_split=None,\n",
      "                       min_samples_leaf=1, min_samples_split=2,\n",
      "                       min_weight_fraction_leaf=0.0, n_estimators=100,\n",
      "                       n_jobs=None, oob_score=False, random_state=None,\n",
      "                       verbose=0, warm_start=False), total= 5.3min\n",
      "[CV] clf__estimator=RandomForestClassifier(bootstrap=True, ccp_alpha=0.0, class_weight=None,\n",
      "                       criterion='gini', max_depth=None, max_features='auto',\n",
      "                       max_leaf_nodes=None, max_samples=None,\n",
      "                       min_impurity_decrease=0.0, min_impurity_split=None,\n",
      "                       min_samples_leaf=1, min_samples_split=2,\n",
      "                       min_weight_fraction_leaf=0.0, n_estimators=100,\n",
      "                       n_jobs=None, oob_score=False, random_state=None,\n",
      "                       verbose=0, warm_start=False) \n",
      "[CV]  clf__estimator=RandomForestClassifier(bootstrap=True, ccp_alpha=0.0, class_weight=None,\n",
      "                       criterion='gini', max_depth=None, max_features='auto',\n",
      "                       max_leaf_nodes=None, max_samples=None,\n",
      "                       min_impurity_decrease=0.0, min_impurity_split=None,\n",
      "                       min_samples_leaf=1, min_samples_split=2,\n",
      "                       min_weight_fraction_leaf=0.0, n_estimators=100,\n",
      "                       n_jobs=None, oob_score=False, random_state=None,\n",
      "                       verbose=0, warm_start=False), total= 5.3min\n",
      "[CV] clf__estimator=RandomForestClassifier(bootstrap=True, ccp_alpha=0.0, class_weight=None,\n",
      "                       criterion='gini', max_depth=None, max_features='auto',\n",
      "                       max_leaf_nodes=None, max_samples=None,\n",
      "                       min_impurity_decrease=0.0, min_impurity_split=None,\n",
      "                       min_samples_leaf=1, min_samples_split=2,\n",
      "                       min_weight_fraction_leaf=0.0, n_estimators=100,\n",
      "                       n_jobs=None, oob_score=False, random_state=None,\n",
      "                       verbose=0, warm_start=False) \n",
      "[CV]  clf__estimator=RandomForestClassifier(bootstrap=True, ccp_alpha=0.0, class_weight=None,\n",
      "                       criterion='gini', max_depth=None, max_features='auto',\n",
      "                       max_leaf_nodes=None, max_samples=None,\n",
      "                       min_impurity_decrease=0.0, min_impurity_split=None,\n",
      "                       min_samples_leaf=1, min_samples_split=2,\n",
      "                       min_weight_fraction_leaf=0.0, n_estimators=100,\n",
      "                       n_jobs=None, oob_score=False, random_state=None,\n",
      "                       verbose=0, warm_start=False), total= 5.2min\n",
      "[CV] clf__estimator=RandomForestClassifier(bootstrap=True, ccp_alpha=0.0, class_weight=None,\n",
      "                       criterion='gini', max_depth=None, max_features='auto',\n",
      "                       max_leaf_nodes=None, max_samples=None,\n",
      "                       min_impurity_decrease=0.0, min_impurity_split=None,\n",
      "                       min_samples_leaf=1, min_samples_split=2,\n",
      "                       min_weight_fraction_leaf=0.0, n_estimators=100,\n",
      "                       n_jobs=None, oob_score=False, random_state=None,\n",
      "                       verbose=0, warm_start=False) \n",
      "[CV]  clf__estimator=RandomForestClassifier(bootstrap=True, ccp_alpha=0.0, class_weight=None,\n",
      "                       criterion='gini', max_depth=None, max_features='auto',\n",
      "                       max_leaf_nodes=None, max_samples=None,\n",
      "                       min_impurity_decrease=0.0, min_impurity_split=None,\n",
      "                       min_samples_leaf=1, min_samples_split=2,\n",
      "                       min_weight_fraction_leaf=0.0, n_estimators=100,\n",
      "                       n_jobs=None, oob_score=False, random_state=None,\n",
      "                       verbose=0, warm_start=False), total= 5.3min\n"
     ]
    },
    {
     "name": "stderr",
     "output_type": "stream",
     "text": [
      "[Parallel(n_jobs=1)]: Done  10 out of  10 | elapsed: 43.8min finished\n"
     ]
    },
    {
     "data": {
      "text/plain": [
       "GridSearchCV(cv=None, error_score=nan,\n",
       "             estimator=Pipeline(memory=None,\n",
       "                                steps=[('vect',\n",
       "                                        CountVectorizer(analyzer='word',\n",
       "                                                        binary=False,\n",
       "                                                        decode_error='strict',\n",
       "                                                        dtype=<class 'numpy.int64'>,\n",
       "                                                        encoding='utf-8',\n",
       "                                                        input='content',\n",
       "                                                        lowercase=True,\n",
       "                                                        max_df=1.0,\n",
       "                                                        max_features=None,\n",
       "                                                        min_df=1,\n",
       "                                                        ngram_range=(1, 1),\n",
       "                                                        preprocessor=None,\n",
       "                                                        stop_words=None,\n",
       "                                                        strip_accents=None,\n",
       "                                                        token_pattern='(...\n",
       "                                                                    max_features='auto',\n",
       "                                                                    max_leaf_nodes=None,\n",
       "                                                                    max_samples=None,\n",
       "                                                                    min_impurity_decrease=0.0,\n",
       "                                                                    min_impurity_split=None,\n",
       "                                                                    min_samples_leaf=1,\n",
       "                                                                    min_samples_split=2,\n",
       "                                                                    min_weight_fraction_leaf=0.0,\n",
       "                                                                    n_estimators=100,\n",
       "                                                                    n_jobs=None,\n",
       "                                                                    oob_score=False,\n",
       "                                                                    random_state=None,\n",
       "                                                                    verbose=0,\n",
       "                                                                    warm_start=False)]}],\n",
       "             pre_dispatch='2*n_jobs', refit=True, return_train_score=False,\n",
       "             scoring=None, verbose=2)"
      ]
     },
     "execution_count": 16,
     "metadata": {
      "tags": []
     },
     "output_type": "execute_result"
    }
   ],
   "source": [
    "parameters = [\r\n",
    "    {'clf__estimator':[xgboost.XGBClassifier()]},\r\n",
    "    {'clf__estimator':[RandomForestClassifier()]}\r\n",
    "    ]\r\n",
    "cv = GridSearchCV(pipeline,param_grid=parameters,verbose=2)\r\n",
    "cv.fit(x_train,y_train)"
   ]
  },
  {
   "cell_type": "markdown",
   "metadata": {
    "id": "8F5p0WfxFkA-"
   },
   "source": [
    "## Recurrent Neural Network\r\n",
    "Next I create a Recurrrent Neural Network to solve the same categorization problem. For this I used what I learned in the [Imperial College London course of TensorFlow for Deep Learning](https://www.coursera.org/learn/customising-models-tensorflow2):"
   ]
  },
  {
   "cell_type": "code",
   "execution_count": 17,
   "metadata": {
    "id": "vwryEfHUzTtF"
   },
   "outputs": [],
   "source": [
    "# Import the TensorFlow 2 libraries needed\r\n",
    "import tensorflow as tf\r\n",
    "from tensorflow.keras.preprocessing.text import Tokenizer\r\n",
    "from tensorflow.keras.preprocessing.sequence import pad_sequences\r\n",
    "from tensorflow.keras.models import Model\r\n",
    "from tensorflow.keras.layers import Embedding,GRU,LSTM,Dense, Masking,Input\r\n",
    "import tensorflow_hub as hub\r\n",
    "import unicodedata\r\n",
    "import re"
   ]
  },
  {
   "cell_type": "markdown",
   "metadata": {
    "id": "AtpeoOSNGbea"
   },
   "source": [
    "Here I use a different text preprocessing process:"
   ]
  },
  {
   "cell_type": "code",
   "execution_count": 18,
   "metadata": {
    "id": "-Y2YXaBkJQSb"
   },
   "outputs": [],
   "source": [
    "\r\n",
    "def preprocess_sentence(sentence):\r\n",
    "    sentence = ''.join(cat for cat in unicodedata.normalize('NFD',sentence) \\\r\n",
    "                        if unicodedata.category(cat)!= 'Mn')\r\n",
    "    sentence = re.sub(r\"([?.!,])\", r\" \\1 \", sentence)\r\n",
    "    sentence = re.sub(r\"[^a-zA-Z?.!,']+\", \" \", sentence)\r\n",
    "    sentence = re.sub(r'[\" \"]+', \" \", sentence)\r\n",
    "    \r\n",
    "    return sentence.strip()\r\n",
    "\r\n",
    "neural_x = x.copy()\r\n",
    "\r\n",
    "for index in neural_x.index:\r\n",
    "    neural_x[index] = preprocess_sentence(neural_x[index])\r\n",
    "\r\n",
    "x_train_neural,x_test_neural,y_train,y_test = train_test_split(neural_x,y,\r\n",
    "                                                               test_size=.2)"
   ]
  },
  {
   "cell_type": "markdown",
   "metadata": {
    "id": "nJfn-KTcGwef"
   },
   "source": [
    "To help improve the model I import a pretrained Embedding layer for text data, which uses as inputs lists of words and converts them into 128th length vectors per word (thus, if the length of a text message is 32, the output vector would be $32\\times 128$."
   ]
  },
  {
   "cell_type": "code",
   "execution_count": 19,
   "metadata": {
    "id": "J9uXVdkh0bbn"
   },
   "outputs": [],
   "source": [
    "embedding_layer = hub.KerasLayer(\"https://tfhub.dev/google/tf2-preview/nnlm-en-dim128/1\", \r\n",
    "                                 output_shape=[128], input_shape=[], dtype=tf.string)\r\n"
   ]
  },
  {
   "cell_type": "markdown",
   "metadata": {
    "id": "aX2ga9dqHlvA"
   },
   "source": [
    "I convert the datasets into TensorFlow Dataset objects to ease the manipulation during training."
   ]
  },
  {
   "cell_type": "code",
   "execution_count": 20,
   "metadata": {
    "id": "88SFaYfw6XPi"
   },
   "outputs": [],
   "source": [
    "train_dataset = tf.data.Dataset.from_tensor_slices((x_train_neural,y_train))\r\n",
    "test_dataset = tf.data.Dataset.from_tensor_slices((x_test_neural,y_test))"
   ]
  },
  {
   "cell_type": "markdown",
   "metadata": {
    "id": "LUJbrz5JHyw4"
   },
   "source": [
    "Next, I preprocess the text data and convert it into numerical data, using the pretrained embedded layer."
   ]
  },
  {
   "cell_type": "code",
   "execution_count": 21,
   "metadata": {
    "id": "aCsF6mUV6X0p"
   },
   "outputs": [],
   "source": [
    "def preprocessing_sequences(dataset):\r\n",
    "    '''This function preprocess text data into numeric data, splitting\r\n",
    "    sentences, then using a pre-trained embedding layer to convert words into\r\n",
    "    numbers, padding the sequences so that all are from the same length\r\n",
    "    and group them into batches.\r\n",
    "\r\n",
    "    Input:\r\n",
    "        dataset: TensorFlow Dataset object containing the data that will be preprocessed\r\n",
    "    Output:\r\n",
    "        dataset: TensorFlow Dataset object with the preprocessed data\r\n",
    "    '''\r\n",
    "\r\n",
    "    def split_sentences(sentences,objective):\r\n",
    "        '''Split text strings into words'''\r\n",
    "        sentences = tf.strings.split(sentences)\r\n",
    "        return (sentences,objective)\r\n",
    "    \r\n",
    "    def embedding_sentences(sentences,objective):\r\n",
    "        '''Use the embedding layer to convert words into\r\n",
    "        numbers\r\n",
    "        '''\r\n",
    "        sentences = embedding_layer(sentences)\r\n",
    "        return (sentences,objective)\r\n",
    "    \r\n",
    "    def pad_sentences(sentences,objective,maxlen=32):\r\n",
    "        '''Pad the sequenses so that they have the same length'''\r\n",
    "        paddings = [[maxlen-tf.shape(sentences)[0],0],[0,0]]\r\n",
    "        sentences = tf.pad(sentences,paddings=paddings,mode='CONSTANT')\r\n",
    "        return (sentences,objective)\r\n",
    "\r\n",
    "    dataset = dataset.map(split_sentences)\r\n",
    "    dataset = dataset.map(embedding_sentences)\r\n",
    "    # Filter out the sequences that are longer than 32 words:\r\n",
    "    dataset = dataset.filter(lambda x,y:tf.math.greater_equal(32,tf.shape(x)[0]))\r\n",
    "    dataset = dataset.map(pad_sentences)\r\n",
    "    dataset = dataset.batch(16,drop_remainder=True)\r\n",
    "    return dataset\r\n",
    "\r\n",
    "train_dataset = preprocessing_sequences(train_dataset)\r\n",
    "test_dataset = preprocessing_sequences(test_dataset)\r\n"
   ]
  },
  {
   "cell_type": "code",
   "execution_count": 22,
   "metadata": {
    "colab": {
     "base_uri": "https://localhost:8080/"
    },
    "id": "_kmRQ2BNGfJ5",
    "outputId": "91da9e69-d0ba-494d-cffa-bc5f97fc5aad"
   },
   "outputs": [
    {
     "name": "stdout",
     "output_type": "stream",
     "text": [
      "Training set specs: (TensorSpec(shape=(16, None, 128), dtype=tf.float32, name=None), TensorSpec(shape=(16, 36), dtype=tf.int64, name=None))\n",
      "Test set specs: (TensorSpec(shape=(16, None, 128), dtype=tf.float32, name=None), TensorSpec(shape=(16, 36), dtype=tf.int64, name=None))\n"
     ]
    }
   ],
   "source": [
    "print('Training set specs:',train_dataset.element_spec)\r\n",
    "print('Test set specs:',test_dataset.element_spec)"
   ]
  },
  {
   "cell_type": "markdown",
   "metadata": {
    "id": "WFPsi0ydJ4BW"
   },
   "source": [
    "### Model\r\n",
    "\r\n",
    "Next I construct the RNN, with only one layer and LSTM cells. Because the problem is a binary problem for 36 variables, I end the RNN with a Dense layer with a Sigmoid activation function:"
   ]
  },
  {
   "cell_type": "code",
   "execution_count": 23,
   "metadata": {
    "colab": {
     "base_uri": "https://localhost:8080/"
    },
    "id": "vPAhEJAbGj-o",
    "outputId": "f11afc2c-c955-4293-a1be-b53002b842a2"
   },
   "outputs": [
    {
     "name": "stdout",
     "output_type": "stream",
     "text": [
      "Model: \"model\"\n",
      "______________________________________________________________________\n",
      "Layer (type)                   Output Shape                Param #    \n",
      "======================================================================\n",
      "input_1 (InputLayer)           [(None, 32, 128)]           0          \n",
      "______________________________________________________________________\n",
      "masking (Masking)              (None, 32, 128)             0          \n",
      "______________________________________________________________________\n",
      "lstm (LSTM)                    (None, 512)                 1312768    \n",
      "______________________________________________________________________\n",
      "dense (Dense)                  (None, 36)                  18468      \n",
      "======================================================================\n",
      "Total params: 1,331,236\n",
      "Trainable params: 1,331,236\n",
      "Non-trainable params: 0\n",
      "______________________________________________________________________\n"
     ]
    }
   ],
   "source": [
    "def RecurrentNeuralNet(input_shape):\r\n",
    "    inputs = Input((input_shape))\r\n",
    "    hidden_state = Masking(mask_value=0.0)(inputs)\r\n",
    "    hidden_state = LSTM(units=512)(hidden_state)\r\n",
    "    output = Dense(36,activation='sigmoid')(hidden_state)\r\n",
    "    model =  Model(inputs=inputs,outputs=output)\r\n",
    "    return model\r\n",
    "\r\n",
    "rnn = RecurrentNeuralNet((32,128))\r\n",
    "rnn.summary(line_length=70)"
   ]
  },
  {
   "cell_type": "markdown",
   "metadata": {
    "id": "sDkKsi2UNtqk"
   },
   "source": [
    "Compile the model with a Binary Cross-Entropy loss function and the Adam optimizer with their default values (could be improved with GridSearchCV). Other metrics evaluated for the model where: the accuracy, the precision and the recall:"
   ]
  },
  {
   "cell_type": "code",
   "execution_count": 24,
   "metadata": {
    "id": "v-cOc_oDnxGI"
   },
   "outputs": [],
   "source": [
    "precision = tf.keras.metrics.Precision()\r\n",
    "recall = tf.keras.metrics.Recall()\r\n",
    "rnn.compile(loss='binary_crossentropy',optimizer='adam',metrics=['accuracy',\\\r\n",
    "                                                                 precision,\r\n",
    "                                                                 recall])"
   ]
  },
  {
   "cell_type": "code",
   "execution_count": 25,
   "metadata": {
    "colab": {
     "base_uri": "https://localhost:8080/"
    },
    "id": "JwPVFq9XEjT7",
    "outputId": "7eb2b1f3-2586-472a-8254-feb1c261547e"
   },
   "outputs": [
    {
     "name": "stdout",
     "output_type": "stream",
     "text": [
      "Epoch 1/30\n",
      "988/988 [==============================] - 121s 117ms/step - loss: 0.2231 - accuracy: 0.9873 - precision: 0.6559 - recall: 0.2821\n",
      "Epoch 2/30\n",
      "988/988 [==============================] - 115s 117ms/step - loss: 0.1695 - accuracy: 0.9999 - precision: 0.7663 - recall: 0.4172\n",
      "Epoch 3/30\n",
      "988/988 [==============================] - 116s 117ms/step - loss: 0.1545 - accuracy: 0.9999 - precision: 0.7950 - recall: 0.4800\n",
      "Epoch 4/30\n",
      "988/988 [==============================] - 116s 117ms/step - loss: 0.1466 - accuracy: 0.9994 - precision: 0.8037 - recall: 0.5154\n",
      "Epoch 5/30\n",
      "988/988 [==============================] - 116s 117ms/step - loss: 0.1416 - accuracy: 0.9999 - precision: 0.8073 - recall: 0.5353\n",
      "Epoch 6/30\n",
      "988/988 [==============================] - 116s 117ms/step - loss: 0.1368 - accuracy: 0.9997 - precision: 0.8104 - recall: 0.5545\n",
      "Epoch 7/30\n",
      "988/988 [==============================] - 115s 117ms/step - loss: 0.1324 - accuracy: 0.9988 - precision: 0.8136 - recall: 0.5734\n",
      "Epoch 8/30\n",
      "988/988 [==============================] - 115s 117ms/step - loss: 0.1284 - accuracy: 0.9985 - precision: 0.8151 - recall: 0.5879\n",
      "Epoch 9/30\n",
      "988/988 [==============================] - 116s 117ms/step - loss: 0.1247 - accuracy: 0.9989 - precision: 0.8203 - recall: 0.6026\n",
      "Epoch 10/30\n",
      "988/988 [==============================] - 115s 117ms/step - loss: 0.1211 - accuracy: 0.9992 - precision: 0.8234 - recall: 0.6146\n",
      "Epoch 11/30\n",
      "988/988 [==============================] - 115s 117ms/step - loss: 0.1175 - accuracy: 0.9991 - precision: 0.8282 - recall: 0.6257\n",
      "Epoch 12/30\n",
      "988/988 [==============================] - 115s 117ms/step - loss: 0.1132 - accuracy: 0.9989 - precision: 0.8344 - recall: 0.6398\n",
      "Epoch 13/30\n",
      "988/988 [==============================] - 115s 117ms/step - loss: 0.1085 - accuracy: 0.9982 - precision: 0.8400 - recall: 0.6529\n",
      "Epoch 14/30\n",
      "988/988 [==============================] - 115s 117ms/step - loss: 0.1030 - accuracy: 0.9977 - precision: 0.8469 - recall: 0.6691\n",
      "Epoch 15/30\n",
      "988/988 [==============================] - 115s 117ms/step - loss: 0.0981 - accuracy: 0.9950 - precision: 0.8516 - recall: 0.6809\n",
      "Epoch 16/30\n",
      "988/988 [==============================] - 115s 117ms/step - loss: 0.0930 - accuracy: 0.9938 - precision: 0.8594 - recall: 0.6956\n",
      "Epoch 17/30\n",
      "988/988 [==============================] - 116s 117ms/step - loss: 0.0874 - accuracy: 0.9913 - precision: 0.8681 - recall: 0.7130\n",
      "Epoch 18/30\n",
      "988/988 [==============================] - 115s 117ms/step - loss: 0.0830 - accuracy: 0.9874 - precision: 0.8723 - recall: 0.7253\n",
      "Epoch 19/30\n",
      "988/988 [==============================] - 115s 116ms/step - loss: 0.0791 - accuracy: 0.9852 - precision: 0.8752 - recall: 0.7388\n",
      "Epoch 20/30\n",
      "988/988 [==============================] - 115s 117ms/step - loss: 0.0734 - accuracy: 0.9788 - precision: 0.8849 - recall: 0.7571\n",
      "Epoch 21/30\n",
      "988/988 [==============================] - 116s 117ms/step - loss: 0.0684 - accuracy: 0.9728 - precision: 0.8903 - recall: 0.7726\n",
      "Epoch 22/30\n",
      "988/988 [==============================] - 115s 117ms/step - loss: 0.0646 - accuracy: 0.9675 - precision: 0.8942 - recall: 0.7884\n",
      "Epoch 23/30\n",
      "988/988 [==============================] - 115s 117ms/step - loss: 0.0609 - accuracy: 0.9638 - precision: 0.9005 - recall: 0.8005\n",
      "Epoch 24/30\n",
      "988/988 [==============================] - 115s 117ms/step - loss: 0.0570 - accuracy: 0.9593 - precision: 0.9079 - recall: 0.8155\n",
      "Epoch 25/30\n",
      "988/988 [==============================] - 116s 117ms/step - loss: 0.0535 - accuracy: 0.9558 - precision: 0.9131 - recall: 0.8286\n",
      "Epoch 26/30\n",
      "988/988 [==============================] - 116s 117ms/step - loss: 0.0495 - accuracy: 0.9561 - precision: 0.9217 - recall: 0.8410\n",
      "Epoch 27/30\n",
      "988/988 [==============================] - 115s 117ms/step - loss: 0.0460 - accuracy: 0.9587 - precision: 0.9268 - recall: 0.8545\n",
      "Epoch 28/30\n",
      "988/988 [==============================] - 116s 117ms/step - loss: 0.0440 - accuracy: 0.9520 - precision: 0.9311 - recall: 0.8622\n",
      "Epoch 29/30\n",
      "988/988 [==============================] - 116s 117ms/step - loss: 0.0408 - accuracy: 0.9571 - precision: 0.9364 - recall: 0.8737\n",
      "Epoch 30/30\n",
      "988/988 [==============================] - 115s 117ms/step - loss: 0.0385 - accuracy: 0.9550 - precision: 0.9400 - recall: 0.8809\n"
     ]
    }
   ],
   "source": [
    "history = rnn.fit(train_dataset,epochs=30)"
   ]
  },
  {
   "cell_type": "code",
   "execution_count": 26,
   "metadata": {
    "id": "iMRBtIZnAFAV"
   },
   "outputs": [],
   "source": [
    "# loss_function = tf.keras.losses.binary_crossentropy(from_logits=True)\r\n",
    "# optimizer = tf.keras.optimizers.Adam()"
   ]
  },
  {
   "cell_type": "code",
   "execution_count": 27,
   "metadata": {
    "id": "Aa3Hcvay0-_K"
   },
   "outputs": [],
   "source": [
    "# @tf.function\r\n",
    "\r\n",
    "# def forward_backward_pass(sentence_input,categories_output,train=False):\r\n",
    "#     with tf.GradientTape() as tape:\r\n",
    "#         predicted_categories = rnn(sentence_input)\r\n",
    "#         loss = loss_function(categories_output,predicted_categories)\r\n",
    "#         trainable_vars = rnn.trainable_variables\r\n",
    "#         gradients = tape.gradient(loss,trainable_vars)\r\n",
    "\r\n",
    "#         if train:\r\n",
    "#             optimizer.apply_gradients(zip(gradients,trainable_vars))\r\n",
    "#         return loss,gradients"
   ]
  },
  {
   "cell_type": "code",
   "execution_count": 28,
   "metadata": {
    "id": "1F-VfgiN_oTP"
   },
   "outputs": [],
   "source": [
    "# epochs = 10\r\n",
    "\r\n",
    "# val_loss_list = []\r\n",
    "# train_loss_list = []\r\n",
    "\r\n",
    "# for epoch in range(epochs):\r\n",
    "#     train_epoch_loss = tf.keras.metrics.Mean()\r\n",
    "#     val_epoch_loss = tf.keras.metrics.Mean()\r\n",
    "\r\n",
    "#     for sentence,categories in train_dataset:\r\n",
    "#         loss,gradients = forward_backward_pass(sentence,categories,\r\n",
    "#                                                train=True)\r\n",
    "#         train_epoch_loss(loss)\r\n",
    "#     train_loss = train_epoch_loss.result()\r\n",
    "#     print('Epoch: {:02d}-------Training Loss: {:3f}'.format(epoch+1,train_loss))\r\n",
    "#     train_loss_list.append(train_loss)\r\n",
    "\r\n",
    "#     for sentence_val,categories_val in val_dataset:\r\n",
    "#         loss,_ = forward_backward_pass(sentence_val,categories_val)\r\n",
    "#         val_epoch_loss(loss)\r\n",
    "#     validation_loss = val_epoch_loss.result()\r\n",
    "#     val_loss_list.append(validation_loss)\r\n",
    "#     print('Epoch: {:02d}-------Validation Loss: {:3f}'.format(epoch+1,validation_loss))"
   ]
  },
  {
   "cell_type": "code",
   "execution_count": 30,
   "metadata": {
    "id": "7iOIi0CXYC53"
   },
   "outputs": [],
   "source": [
    "history_d = {}\r\n",
    "for key,value in history.history.items():\r\n",
    "    history_d[key] = [float(v) for v in history.history[key]]\r\n"
   ]
  },
  {
   "cell_type": "code",
   "execution_count": 31,
   "metadata": {
    "colab": {
     "base_uri": "https://localhost:8080/",
     "height": 371
    },
    "id": "24tw4oMfXai_",
    "outputId": "d24c4a0f-4330-4731-88a9-bcebc242aa11"
   },
   "outputs": [
    {
     "data": {
      "text/plain": [
       "Text(0, 0.5, 'Recall')"
      ]
     },
     "execution_count": 31,
     "metadata": {
      "tags": []
     },
     "output_type": "execute_result"
    },
    {
     "data": {
      "image/png": "[encoded data removed]",
      "text/plain": [
       "<Figure size 1440x360 with 3 Axes>"
      ]
     },
     "metadata": {
      "tags": []
     },
     "output_type": "display_data"
    }
   ],
   "source": [
    "plt.figure(figsize=(20,5))\r\n",
    "plt.subplot(1,3,1)\r\n",
    "plt.plot(history_d['accuracy'],color='teal')\r\n",
    "plt.title('Accuracy Evolution through Epochs')\r\n",
    "plt.xlabel('Epoch')\r\n",
    "plt.ylabel('Accuracy')\r\n",
    "\r\n",
    "plt.subplot(1,3,2)\r\n",
    "plt.plot(history_d['precision'],color='midnightblue')\r\n",
    "plt.title('Precision Evolution through Epochs')\r\n",
    "plt.xlabel('Epoch')\r\n",
    "plt.ylabel('Precision')\r\n",
    "\r\n",
    "plt.subplot(1,3,3)\r\n",
    "plt.plot(history_d['recall'],color='maroon')\r\n",
    "plt.title('Recall Evolution through Epochs')\r\n",
    "plt.xlabel('Epoch')\r\n",
    "plt.ylabel('Recall')"
   ]
  },
  {
   "cell_type": "code",
   "execution_count": 32,
   "metadata": {
    "id": "X9KMPYqGY_ZZ"
   },
   "outputs": [],
   "source": [
    "y_pred = rnn.predict(test_dataset)"
   ]
  },
  {
   "cell_type": "code",
   "execution_count": 34,
   "metadata": {
    "id": "vb6Vde8HvZhZ"
   },
   "outputs": [],
   "source": [
    "y_pred[y_pred<0.5] = 0\r\n",
    "y_pred[y_pred>=0.5] = 1\r\n",
    "y_pred = y_pred.astype('int64')"
   ]
  },
  {
   "cell_type": "code",
   "execution_count": 35,
   "metadata": {
    "colab": {
     "base_uri": "https://localhost:8080/"
    },
    "id": "CVhoYtsb16zg",
    "outputId": "15e5cfa0-d7df-4fe9-b7d1-cca5c04b1e68"
   },
   "outputs": [
    {
     "data": {
      "text/plain": [
       "dtype('int64')"
      ]
     },
     "execution_count": 35,
     "metadata": {
      "tags": []
     },
     "output_type": "execute_result"
    }
   ],
   "source": [
    "y_test = np.concatenate([y for x, y in test_dataset], axis=0)\r\n",
    "y_test.dtype"
   ]
  },
  {
   "cell_type": "code",
   "execution_count": 36,
   "metadata": {
    "colab": {
     "base_uri": "https://localhost:8080/"
    },
    "id": "P9bHe9F42O7G",
    "outputId": "004f39c9-38e8-485e-aa5a-2dc456c8d545"
   },
   "outputs": [
    {
     "name": "stdout",
     "output_type": "stream",
     "text": [
      "------------------------RELATED-----------------------\n",
      "\n",
      "              precision    recall  f1-score   support\n",
      "\n",
      "           0       0.66      0.54      0.59      1084\n",
      "           1       0.84      0.90      0.87      2884\n",
      "\n",
      "    accuracy                           0.80      3968\n",
      "   macro avg       0.75      0.72      0.73      3968\n",
      "weighted avg       0.79      0.80      0.79      3968\n",
      "\n",
      "------------------------REQUEST-----------------------\n",
      "\n",
      "              precision    recall  f1-score   support\n",
      "\n",
      "           0       0.92      0.94      0.93      3274\n",
      "           1       0.69      0.60      0.64       694\n",
      "\n",
      "    accuracy                           0.88      3968\n",
      "   macro avg       0.80      0.77      0.78      3968\n",
      "weighted avg       0.88      0.88      0.88      3968\n",
      "\n",
      "------------------------OFFER-----------------------\n",
      "\n",
      "              precision    recall  f1-score   support\n",
      "\n",
      "           0       1.00      1.00      1.00      3951\n",
      "           1       0.00      0.00      0.00        17\n",
      "\n",
      "    accuracy                           1.00      3968\n",
      "   macro avg       0.50      0.50      0.50      3968\n",
      "weighted avg       0.99      1.00      0.99      3968\n",
      "\n",
      "------------------------AID_RELATED-----------------------\n",
      "\n",
      "              precision    recall  f1-score   support\n",
      "\n",
      "           0       0.82      0.82      0.82      2574\n",
      "           1       0.66      0.67      0.67      1394\n",
      "\n",
      "    accuracy                           0.76      3968\n",
      "   macro avg       0.74      0.74      0.74      3968\n",
      "weighted avg       0.76      0.76      0.76      3968\n",
      "\n",
      "------------------------MEDICAL_HELP-----------------------\n",
      "\n",
      "              precision    recall  f1-score   support\n",
      "\n",
      "           0       0.96      0.97      0.97      3747\n",
      "           1       0.41      0.34      0.37       221\n",
      "\n",
      "    accuracy                           0.94      3968\n",
      "   macro avg       0.68      0.66      0.67      3968\n",
      "weighted avg       0.93      0.94      0.93      3968\n",
      "\n",
      "------------------------MEDICAL_PRODUCTS-----------------------\n",
      "\n",
      "              precision    recall  f1-score   support\n",
      "\n",
      "           0       0.98      0.99      0.98      3829\n",
      "           1       0.45      0.31      0.37       139\n",
      "\n",
      "    accuracy                           0.96      3968\n",
      "   macro avg       0.71      0.65      0.67      3968\n",
      "weighted avg       0.96      0.96      0.96      3968\n",
      "\n",
      "------------------------SEARCH_AND_RESCUE-----------------------\n",
      "\n",
      "              precision    recall  f1-score   support\n",
      "\n",
      "           0       0.98      1.00      0.99      3879\n",
      "           1       0.45      0.11      0.18        89\n",
      "\n",
      "    accuracy                           0.98      3968\n",
      "   macro avg       0.72      0.55      0.58      3968\n",
      "weighted avg       0.97      0.98      0.97      3968\n",
      "\n",
      "------------------------SECURITY-----------------------\n",
      "\n",
      "              precision    recall  f1-score   support\n",
      "\n",
      "           0       0.99      1.00      0.99      3911\n",
      "           1       0.29      0.04      0.06        57\n",
      "\n",
      "    accuracy                           0.98      3968\n",
      "   macro avg       0.64      0.52      0.53      3968\n",
      "weighted avg       0.98      0.98      0.98      3968\n",
      "\n",
      "------------------------MILITARY-----------------------\n",
      "\n",
      "              precision    recall  f1-score   support\n",
      "\n",
      "           0       0.98      0.99      0.99      3875\n",
      "           1       0.56      0.30      0.39        93\n",
      "\n",
      "    accuracy                           0.98      3968\n",
      "   macro avg       0.77      0.65      0.69      3968\n",
      "weighted avg       0.97      0.98      0.97      3968\n",
      "\n",
      "------------------------CHILD_ALONE-----------------------\n",
      "\n",
      "              precision    recall  f1-score   support\n",
      "\n",
      "           0       1.00      1.00      1.00      3968\n",
      "\n",
      "    accuracy                           1.00      3968\n",
      "   macro avg       1.00      1.00      1.00      3968\n",
      "weighted avg       1.00      1.00      1.00      3968\n",
      "\n",
      "------------------------WATER-----------------------\n",
      "\n",
      "              precision    recall  f1-score   support\n",
      "\n",
      "           0       0.98      0.99      0.98      3765\n",
      "           1       0.73      0.62      0.67       203\n",
      "\n",
      "    accuracy                           0.97      3968\n",
      "   macro avg       0.86      0.80      0.83      3968\n",
      "weighted avg       0.97      0.97      0.97      3968\n",
      "\n",
      "------------------------FOOD-----------------------\n",
      "\n",
      "              precision    recall  f1-score   support\n",
      "\n",
      "           0       0.98      0.97      0.98      3585\n",
      "           1       0.77      0.79      0.78       383\n",
      "\n",
      "    accuracy                           0.96      3968\n",
      "   macro avg       0.87      0.88      0.88      3968\n",
      "weighted avg       0.96      0.96      0.96      3968\n",
      "\n",
      "------------------------SHELTER-----------------------\n",
      "\n",
      "              precision    recall  f1-score   support\n",
      "\n",
      "           0       0.97      0.98      0.97      3707\n",
      "           1       0.65      0.56      0.60       261\n",
      "\n",
      "    accuracy                           0.95      3968\n",
      "   macro avg       0.81      0.77      0.79      3968\n",
      "weighted avg       0.95      0.95      0.95      3968\n",
      "\n",
      "------------------------CLOTHING-----------------------\n",
      "\n",
      "              precision    recall  f1-score   support\n",
      "\n",
      "           0       0.99      1.00      0.99      3926\n",
      "           1       0.33      0.19      0.24        42\n",
      "\n",
      "    accuracy                           0.99      3968\n",
      "   macro avg       0.66      0.59      0.62      3968\n",
      "weighted avg       0.98      0.99      0.99      3968\n",
      "\n",
      "------------------------MONEY-----------------------\n",
      "\n",
      "              precision    recall  f1-score   support\n",
      "\n",
      "           0       0.99      1.00      0.99      3897\n",
      "           1       0.56      0.21      0.31        71\n",
      "\n",
      "    accuracy                           0.98      3968\n",
      "   macro avg       0.77      0.60      0.65      3968\n",
      "weighted avg       0.98      0.98      0.98      3968\n",
      "\n",
      "------------------------MISSING_PEOPLE-----------------------\n",
      "\n",
      "              precision    recall  f1-score   support\n",
      "\n",
      "           0       0.99      1.00      1.00      3940\n",
      "           1       0.12      0.04      0.06        28\n",
      "\n",
      "    accuracy                           0.99      3968\n",
      "   macro avg       0.56      0.52      0.53      3968\n",
      "weighted avg       0.99      0.99      0.99      3968\n",
      "\n",
      "------------------------REFUGEES-----------------------\n",
      "\n",
      "              precision    recall  f1-score   support\n",
      "\n",
      "           0       0.98      0.99      0.99      3886\n",
      "           1       0.37      0.16      0.22        82\n",
      "\n",
      "    accuracy                           0.98      3968\n",
      "   macro avg       0.68      0.58      0.61      3968\n",
      "weighted avg       0.97      0.98      0.97      3968\n",
      "\n",
      "------------------------DEATH-----------------------\n",
      "\n",
      "              precision    recall  f1-score   support\n",
      "\n",
      "           0       0.98      0.99      0.98      3846\n",
      "           1       0.52      0.37      0.43       122\n",
      "\n",
      "    accuracy                           0.97      3968\n",
      "   macro avg       0.75      0.68      0.71      3968\n",
      "weighted avg       0.97      0.97      0.97      3968\n",
      "\n",
      "------------------------OTHER_AID-----------------------\n",
      "\n",
      "              precision    recall  f1-score   support\n",
      "\n",
      "           0       0.91      0.93      0.92      3484\n",
      "           1       0.40      0.32      0.36       484\n",
      "\n",
      "    accuracy                           0.86      3968\n",
      "   macro avg       0.66      0.63      0.64      3968\n",
      "weighted avg       0.85      0.86      0.85      3968\n",
      "\n",
      "------------------------INFRASTRUCTURE_RELATED-----------------------\n",
      "\n",
      "              precision    recall  f1-score   support\n",
      "\n",
      "           0       0.96      0.98      0.97      3788\n",
      "           1       0.18      0.11      0.14       180\n",
      "\n",
      "    accuracy                           0.94      3968\n",
      "   macro avg       0.57      0.54      0.55      3968\n",
      "weighted avg       0.92      0.94      0.93      3968\n",
      "\n",
      "------------------------TRANSPORT-----------------------\n",
      "\n",
      "              precision    recall  f1-score   support\n",
      "\n",
      "           0       0.97      0.99      0.98      3845\n",
      "           1       0.38      0.16      0.23       123\n",
      "\n",
      "    accuracy                           0.97      3968\n",
      "   macro avg       0.68      0.58      0.60      3968\n",
      "weighted avg       0.96      0.97      0.96      3968\n",
      "\n",
      "------------------------BUILDINGS-----------------------\n",
      "\n",
      "              precision    recall  f1-score   support\n",
      "\n",
      "           0       0.98      0.98      0.98      3835\n",
      "           1       0.48      0.42      0.45       133\n",
      "\n",
      "    accuracy                           0.97      3968\n",
      "   macro avg       0.73      0.70      0.72      3968\n",
      "weighted avg       0.96      0.97      0.96      3968\n",
      "\n",
      "------------------------ELECTRICITY-----------------------\n",
      "\n",
      "              precision    recall  f1-score   support\n",
      "\n",
      "           0       0.99      0.99      0.99      3919\n",
      "           1       0.31      0.31      0.31        49\n",
      "\n",
      "    accuracy                           0.98      3968\n",
      "   macro avg       0.65      0.65      0.65      3968\n",
      "weighted avg       0.98      0.98      0.98      3968\n",
      "\n",
      "------------------------TOOLS-----------------------\n",
      "\n",
      "              precision    recall  f1-score   support\n",
      "\n",
      "           0       1.00      1.00      1.00      3950\n",
      "           1       0.00      0.00      0.00        18\n",
      "\n",
      "    accuracy                           1.00      3968\n",
      "   macro avg       0.50      0.50      0.50      3968\n",
      "weighted avg       0.99      1.00      0.99      3968\n",
      "\n",
      "------------------------HOSPITALS-----------------------\n",
      "\n",
      "              precision    recall  f1-score   support\n",
      "\n",
      "           0       0.99      1.00      1.00      3947\n",
      "           1       0.00      0.00      0.00        21\n",
      "\n",
      "    accuracy                           0.99      3968\n",
      "   macro avg       0.50      0.50      0.50      3968\n",
      "weighted avg       0.99      0.99      0.99      3968\n",
      "\n",
      "------------------------SHOPS-----------------------\n",
      "\n",
      "              precision    recall  f1-score   support\n",
      "\n",
      "           0       1.00      1.00      1.00      3957\n",
      "           1       0.00      0.00      0.00        11\n",
      "\n",
      "    accuracy                           1.00      3968\n",
      "   macro avg       0.50      0.50      0.50      3968\n",
      "weighted avg       0.99      1.00      1.00      3968\n",
      "\n",
      "------------------------AID_CENTERS-----------------------\n",
      "\n",
      "              precision    recall  f1-score   support\n",
      "\n",
      "           0       0.99      1.00      1.00      3937\n",
      "           1       0.25      0.03      0.06        31\n",
      "\n",
      "    accuracy                           0.99      3968\n",
      "   macro avg       0.62      0.52      0.53      3968\n",
      "weighted avg       0.99      0.99      0.99      3968\n",
      "\n",
      "------------------------OTHER_INFRASTRUCTURE-----------------------\n",
      "\n",
      "              precision    recall  f1-score   support\n",
      "\n",
      "           0       0.97      0.98      0.98      3845\n",
      "           1       0.12      0.07      0.09       123\n",
      "\n",
      "    accuracy                           0.96      3968\n",
      "   macro avg       0.55      0.53      0.53      3968\n",
      "weighted avg       0.94      0.96      0.95      3968\n",
      "\n",
      "------------------------WEATHER_RELATED-----------------------\n",
      "\n",
      "              precision    recall  f1-score   support\n",
      "\n",
      "           0       0.93      0.92      0.93      3044\n",
      "           1       0.75      0.77      0.76       924\n",
      "\n",
      "    accuracy                           0.89      3968\n",
      "   macro avg       0.84      0.84      0.84      3968\n",
      "weighted avg       0.89      0.89      0.89      3968\n",
      "\n",
      "------------------------FLOODS-----------------------\n",
      "\n",
      "              precision    recall  f1-score   support\n",
      "\n",
      "           0       0.97      0.98      0.98      3742\n",
      "           1       0.64      0.55      0.60       226\n",
      "\n",
      "    accuracy                           0.96      3968\n",
      "   macro avg       0.81      0.77      0.79      3968\n",
      "weighted avg       0.95      0.96      0.96      3968\n",
      "\n",
      "------------------------STORM-----------------------\n",
      "\n",
      "              precision    recall  f1-score   support\n",
      "\n",
      "           0       0.97      0.97      0.97      3675\n",
      "           1       0.62      0.66      0.64       293\n",
      "\n",
      "    accuracy                           0.94      3968\n",
      "   macro avg       0.79      0.81      0.80      3968\n",
      "weighted avg       0.95      0.94      0.95      3968\n",
      "\n",
      "------------------------FIRE-----------------------\n",
      "\n",
      "              precision    recall  f1-score   support\n",
      "\n",
      "           0       0.99      1.00      1.00      3933\n",
      "           1       0.44      0.11      0.18        35\n",
      "\n",
      "    accuracy                           0.99      3968\n",
      "   macro avg       0.72      0.56      0.59      3968\n",
      "weighted avg       0.99      0.99      0.99      3968\n",
      "\n",
      "------------------------EARTHQUAKE-----------------------\n",
      "\n",
      "              precision    recall  f1-score   support\n",
      "\n",
      "           0       0.98      0.99      0.98      3617\n",
      "           1       0.86      0.81      0.83       351\n",
      "\n",
      "    accuracy                           0.97      3968\n",
      "   macro avg       0.92      0.90      0.91      3968\n",
      "weighted avg       0.97      0.97      0.97      3968\n",
      "\n",
      "------------------------COLD-----------------------\n",
      "\n",
      "              precision    recall  f1-score   support\n",
      "\n",
      "           0       0.99      1.00      0.99      3908\n",
      "           1       0.30      0.12      0.17        60\n",
      "\n",
      "    accuracy                           0.98      3968\n",
      "   macro avg       0.65      0.56      0.58      3968\n",
      "weighted avg       0.98      0.98      0.98      3968\n",
      "\n",
      "------------------------OTHER_WEATHER-----------------------\n",
      "\n",
      "              precision    recall  f1-score   support\n",
      "\n",
      "           0       0.97      0.98      0.97      3816\n",
      "           1       0.28      0.20      0.23       152\n",
      "\n",
      "    accuracy                           0.95      3968\n",
      "   macro avg       0.62      0.59      0.60      3968\n",
      "weighted avg       0.94      0.95      0.95      3968\n",
      "\n",
      "------------------------DIRECT_REPORT-----------------------\n",
      "\n",
      "              precision    recall  f1-score   support\n",
      "\n",
      "           0       0.90      0.93      0.91      3193\n",
      "           1       0.65      0.55      0.60       775\n",
      "\n",
      "    accuracy                           0.85      3968\n",
      "   macro avg       0.77      0.74      0.75      3968\n",
      "weighted avg       0.85      0.85      0.85      3968\n",
      "\n"
     ]
    },
    {
     "name": "stderr",
     "output_type": "stream",
     "text": [
      "/usr/local/lib/python3.6/dist-packages/sklearn/metrics/_classification.py:1272: UndefinedMetricWarning: Precision and F-score are ill-defined and being set to 0.0 in labels with no predicted samples. Use `zero_division` parameter to control this behavior.\n",
      "  _warn_prf(average, modifier, msg_start, len(result))\n"
     ]
    }
   ],
   "source": [
    "for index,column in enumerate(y.columns):\r\n",
    "    temp_dict = classification_report(y_test[:,index],y_pred[:,index])\r\n",
    "    print('------------------------'+column.upper()+'-----------------------'+'\\n')\r\n",
    "    print(temp_dict)"
   ]
  },
  {
   "cell_type": "code",
   "execution_count": 40,
   "metadata": {
    "colab": {
     "base_uri": "https://localhost:8080/"
    },
    "id": "ELjfh-UD9jKz",
    "outputId": "c5225ea2-1eac-489b-bf23-2eb9074f95df"
   },
   "outputs": [
    {
     "name": "stdout",
     "output_type": "stream",
     "text": [
      "248/248 [==============================] - 26s 106ms/step - loss: 0.2205 - accuracy: 0.9743 - precision: 0.6942 - recall: 0.6314\n"
     ]
    },
    {
     "data": {
      "text/plain": [
       "[0.22050055861473083,\n",
       " 0.9742943644523621,\n",
       " 0.6941608786582947,\n",
       " 0.631442129611969]"
      ]
     },
     "execution_count": 40,
     "metadata": {
      "tags": []
     },
     "output_type": "execute_result"
    }
   ],
   "source": [
    "rnn.evaluate(test_dataset)"
   ]
  },
  {
   "cell_type": "code",
   "execution_count": null,
   "metadata": {
    "id": "e4wtLSGSCNcF"
   },
   "outputs": [],
   "source": []
  }
 ],
 "metadata": {
  "accelerator": "GPU",
  "colab": {
   "collapsed_sections": [],
   "name": "proyect_disaster_respones.ipynb",
   "provenance": []
  },
  "kernelspec": {
   "display_name": "Python 3",
   "language": "python",
   "name": "python3"
  },
  "language_info": {
   "codemirror_mode": {
    "name": "ipython",
    "version": 3
   },
   "file_extension": ".py",
   "mimetype": "text/x-python",
   "name": "python",
   "nbconvert_exporter": "python",
   "pygments_lexer": "ipython3",
   "version": "3.8.5"
  }
 },
 "nbformat": 4,
 "nbformat_minor": 4
}
